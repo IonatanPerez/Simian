{
 "cells": [
  {
   "cell_type": "code",
   "execution_count": 1,
   "metadata": {},
   "outputs": [
    {
     "name": "stdout",
     "output_type": "stream",
     "text": [
      "ElementNotInteractableException\n",
      "Scrolling finalizado bien\n"
     ]
    },
    {
     "name": "stdin",
     "output_type": "stream",
     "text": [
      "Press Enter to continue... \n"
     ]
    }
   ],
   "source": [
    "from selenium import webdriver\n",
    "from selenium.webdriver.common.keys import Keys\n",
    "import selenium\n",
    "\n",
    "\n",
    "\n",
    "ffprofile = webdriver.FirefoxProfile()\n",
    "adblockfile = 'adblock_plus.xpi'\n",
    "ffprofile.add_extension(adblockfile)\n",
    "#driver = webdriver.Firefox(ffprofile)\n",
    "driver = webdriver.Firefox()\n",
    "url = \"https://www.lanacion.com.ar/autor/joaquin-morales-sola-3\"\n",
    "driver.get(url)\n",
    "assert \"Autor\" in driver.title\n",
    "elem = driver.find_element_by_partial_link_text('VER MÁS NOTAS')\n",
    "#elem.clear()\n",
    "#elem.send_keys(\"pycon\")\n",
    "#elem.send_keys(Keys.RETURN)\n",
    "#assert \"No results found.\" not in driver.page_source\n",
    "more = True\n",
    "while more:\n",
    "    try:\n",
    "        elem.click()\n",
    "    except Exception as ex:\n",
    "        more = False\n",
    "        if type(ex).__name__ == \"ElementNotInteractableException\":\n",
    "            print (\"Scrolling finalizado bien\")\n",
    "        else:\n",
    "            raise\n",
    "        \n",
    "input(\"Press Enter to continue...\")\n",
    "driver.close()"
   ]
  },
  {
   "cell_type": "code",
   "execution_count": null,
   "metadata": {},
   "outputs": [],
   "source": [
    "<a></a>"
   ]
  }
 ],
 "metadata": {
  "kernelspec": {
   "display_name": "Python (Simian)",
   "language": "python",
   "name": "simian"
  },
  "language_info": {
   "codemirror_mode": {
    "name": "ipython",
    "version": 3
   },
   "file_extension": ".py",
   "mimetype": "text/x-python",
   "name": "python",
   "nbconvert_exporter": "python",
   "pygments_lexer": "ipython3",
   "version": "3.7.1"
  }
 },
 "nbformat": 4,
 "nbformat_minor": 2
}
