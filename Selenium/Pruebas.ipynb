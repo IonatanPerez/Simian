{
 "cells": [
  {
   "cell_type": "code",
   "execution_count": 1,
   "metadata": {},
   "outputs": [
    {
     "name": "stdout",
     "output_type": "stream",
     "text": [
      "Autor - Mariano Grondona - LA NACION\n",
      "Scrolling finalizado bien\n"
     ]
    },
    {
     "name": "stdin",
     "output_type": "stream",
     "text": [
      "Press Enter to continue... \n"
     ]
    }
   ],
   "source": [
    "# Nota: para que esto funcion hay que tener el archivo https://github.com/mozilla/geckodriver/releases\n",
    "# en la carpeta del path, que en windows es user/appdata/windows/windowsapp o algo asi.\n",
    "from selenium import webdriver\n",
    "from selenium.webdriver.common.keys import Keys\n",
    "import selenium\n",
    "\n",
    "# Pensamos en la estructura de la info\n",
    "\n",
    "# Queremos recolectar la info disponible de cada autor de LN aprovechando que tienen una pagina donde\n",
    "# estan todas sus notas indexadas. \n",
    "\n",
    "\n",
    "# Configuramos el navegador\n",
    "ffprofile = webdriver.FirefoxProfile()\n",
    "driver = webdriver.Firefox()\n",
    "\n",
    "#adblockfile = 'adblock_plus.xpi'\n",
    "#ffprofile.add_extension(adblockfile)\n",
    "#driver = webdriver.Firefox(ffprofile)\n",
    "\n",
    "# Generamos la url\n",
    "# La nacion usa un codigo interno que ignora el nombre del autor, lo que le importa es el ultimo numero\n",
    "# una pagina de la forma https://www.lanacion.com.ar/autor/test-id va a recuperar todas las notas del autor numero id\n",
    "# Haciendo una revision rapida, al 26/10/19 tienen hasta el id 13170, al parecer de corrido pero no esta chequeado.\n",
    "\n",
    "id = 1\n",
    "url = \"https://www.lanacion.com.ar/autor/id-\"+str(id)\n",
    "driver.get(url)\n",
    "print (driver.title)\n",
    "assert \"Autor\" in driver.title\n",
    "elem = driver.find_element_by_partial_link_text('VER MÁS NOTAS')\n",
    "more = True\n",
    "while more:\n",
    "    try:\n",
    "        elem.click()\n",
    "    except Exception as ex:\n",
    "        more = False\n",
    "        if type(ex).__name__ == \"ElementNotInteractableException\":\n",
    "            print (\"Scrolling finalizado bien\")\n",
    "        else:\n",
    "            raise\n",
    "\n",
    "\n",
    "            \n",
    "input(\"Press Enter to continue...\")\n",
    "driver.close()"
   ]
  }
 ],
 "metadata": {
  "kernelspec": {
   "display_name": "Python (Simian)",
   "language": "python",
   "name": "simian"
  },
  "language_info": {
   "codemirror_mode": {
    "name": "ipython",
    "version": 3
   },
   "file_extension": ".py",
   "mimetype": "text/x-python",
   "name": "python",
   "nbconvert_exporter": "python",
   "pygments_lexer": "ipython3",
   "version": "3.7.1"
  }
 },
 "nbformat": 4,
 "nbformat_minor": 2
}
