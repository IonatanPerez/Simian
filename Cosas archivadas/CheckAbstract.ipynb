{
 "cells": [
  {
   "cell_type": "code",
   "execution_count": 1,
   "metadata": {},
   "outputs": [
    {
     "name": "stdout",
     "output_type": "stream",
     "text": [
      "Recuerde que para que esta clase funcione debe incluir self.chequeosdeimplementacion() en caso de sobreescrbir el __init__\n"
     ]
    }
   ],
   "source": [
    "from abstract import Abstract, isabstract"
   ]
  },
  {
   "cell_type": "code",
   "execution_count": 7,
   "metadata": {},
   "outputs": [],
   "source": [
    "class Miclase(Abstract):\n",
    "    variable = \"Implementar\"\n",
    "    \n",
    "class miclaseimplementada(Miclase):\n",
    "    variable = \"Mi variable\"\n",
    "    \n",
    "    def runoninit(self,text,text1):\n",
    "        pass\n",
    "    \n",
    "    def porimplementar():\n",
    "        return isabstract"
   ]
  },
  {
   "cell_type": "code",
   "execution_count": 8,
   "metadata": {},
   "outputs": [
    {
     "name": "stdout",
     "output_type": "stream",
     "text": [
      "Warning: En Miclase no se implemento la propiedad variable\n"
     ]
    }
   ],
   "source": [
    "clase = Miclase()"
   ]
  },
  {
   "cell_type": "code",
   "execution_count": 9,
   "metadata": {},
   "outputs": [
    {
     "name": "stdout",
     "output_type": "stream",
     "text": [
      "Warning: En miclaseimplementada no se implemento el metodo porimplementar\n"
     ]
    }
   ],
   "source": [
    "clase2 = miclaseimplementada(\"Hola\",\"chau\")"
   ]
  }
 ],
 "metadata": {
  "kernelspec": {
   "display_name": "Python (Simian)",
   "language": "python",
   "name": "simian"
  },
  "language_info": {
   "codemirror_mode": {
    "name": "ipython",
    "version": 3
   },
   "file_extension": ".py",
   "mimetype": "text/x-python",
   "name": "python",
   "nbconvert_exporter": "python",
   "pygments_lexer": "ipython3",
   "version": "3.7.1"
  }
 },
 "nbformat": 4,
 "nbformat_minor": 2
}
