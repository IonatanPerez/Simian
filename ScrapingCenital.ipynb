{
 "cells": [
  {
   "cell_type": "code",
   "execution_count": 143,
   "metadata": {},
   "outputs": [],
   "source": [
    "import requests\n",
    "from bs4 import BeautifulSoup\n",
    "import time\n",
    "import datetime\n",
    "import json\n",
    "import os\n",
    "\n",
    "class Cenital:\n",
    "    \n",
    "    myname = \"Cenital\"\n",
    "    savefolder = \"./dataCenital/\"\n",
    "    rawdata = \"raw/\"\n",
    "    \n",
    "    class Home:\n",
    "    \n",
    "        url = \"https://www.cenital.com/\"\n",
    "       \n",
    "    \n",
    "        def __init__ (self):\n",
    "            self.page = requests.get(self.url)\n",
    "            if self.page.status_code != 200:\n",
    "                print (self.page.status_code)\n",
    "            else:\n",
    "                print (\"Home de \" + Cenital.myname + \" descargado con exito.\")\n",
    "            self.bpage = BeautifulSoup(self.page.content, 'html.parser')\n",
    "\n",
    "        def printpretty(self):\n",
    "            print(self.bpage.prettify())\n",
    "            \n",
    "        def getlistofnotes(self):\n",
    "            info = Cenital.generateinfo(\"-notasHome\")\n",
    "            # Buscamos con el class card-title todas las notas porque es lo unico que idententifica a todas las notas del home\n",
    "            titulos = cenital.home.bpage.find_all(attrs={\"class\":\"card-title\"})\n",
    "            for titulo in titulos:\n",
    "                vinculo = titulo.find_all(\"a\")\n",
    "                assert len (vinculo) == 1, \"error, se encontro mas de un titulo por nota\"\n",
    "                info [vinculo[0]['href']] = {}\n",
    "                info [vinculo[0]['href']][\"Url\"] = Cenital.Home.url + vinculo[0]['href']\n",
    "                info [vinculo[0]['href']][\"Titulo\"] = vinculo[0].string\n",
    "            return info\n",
    "            \n",
    "    class Noticia:\n",
    "        \n",
    "        def __init__ (self,url):\n",
    "            self.url = url\n",
    "            self.id = self.url.split(\"/\")[-1]\n",
    "            print (self.id)\n",
    "            self.page = requests.get(self.url)\n",
    "            if self.page.status_code != 200:\n",
    "                print (self.page.status_code)\n",
    "            else:\n",
    "                print (\"Nota \" + self.url + \" descargada con exito.\")\n",
    "            self.bpage = BeautifulSoup(self.page.content, 'html.parser')\n",
    "\n",
    "        def printpretty(self):\n",
    "            print(self.bpage.prettify())\n",
    "        \n",
    "        def generarinfo(self):\n",
    "            self.info = Cenital.generateinfo(\"notaid-\"+self.id,fecha=False)\n",
    "            self.datosprevios = False\n",
    "            self.buscardatosprevios()\n",
    "            Cenital.saveinfo(self.info)\n",
    "            \n",
    "        def buscardatosprevios(self):\n",
    "            if os.path.exists(self.info[\"metadata\"][\"filename\"]):\n",
    "                print (\"bingo!\")\n",
    "                self.datosprevios = True\n",
    "                with open(self.info[\"metadata\"][\"filename\"]) as file:  \n",
    "                    self.info = json.load(file)\n",
    "                self.info[\"metadata\"][]\n",
    "                \n",
    "    def gethome(self):\n",
    "        self.home = self.Home()\n",
    "        \n",
    "    def generateinfo (name,fecha=True):\n",
    "        info = {}\n",
    "        info[\"metadata\"] = {}\n",
    "        info[\"metadata\"][\"timestampofsearch\"] = datetime.datetime.now().timestamp()\n",
    "        info[\"metadata\"][\"timeofsearch\"] = datetime.datetime.fromtimestamp(info[\"metadata\"][\"timestampofsearch\"]).isoformat()\n",
    "        if fecha:\n",
    "            info[\"metadata\"][\"filename\"] = Cenital.savefolder + Cenital.rawdata + datetime.datetime.fromtimestamp(info[\"metadata\"][\"timestampofsearch\"]).strftime(\"%Y-%m-%d-%H-%M\") + name + \".json\"\n",
    "        else:\n",
    "            info[\"metadata\"][\"filename\"] = Cenital.savefolder + Cenital.rawdata + name + \".json\"\n",
    "        return info\n",
    "        \n",
    "    def removemetadata(info):\n",
    "        del info[\"metadata\"]\n",
    "        \n",
    "    def saveinfo(info):\n",
    "        with open(info[\"metadata\"][\"filename\"], 'w') as f:\n",
    "            json.dump(info, f)\n",
    "            \n",
    "    \n",
    "        \n",
    "        \n",
    "    # Inicializa las carpetas si no existen\n",
    "    if not os.path.exists(savefolder):\n",
    "        os.makedirs(savefolder)\n",
    "    if not os.path.exists(savefolder+rawdata):\n",
    "        os.makedirs(savefolder+rawdata)\n",
    "    \n",
    "    "
   ]
  },
  {
   "cell_type": "code",
   "execution_count": 142,
   "metadata": {},
   "outputs": [
    {
     "name": "stdout",
     "output_type": "stream",
     "text": [
      "Home de Cenital descargado con exito.\n",
      "63773\n",
      "Nota https://www.cenital.com/2019/06/15/como-funciona-el-fmi-por-dentro-/63773 descargada con exito.\n"
     ]
    }
   ],
   "source": [
    "cenital = Cenital()\n",
    "cenital.gethome()\n",
    "listadenotas = cenital.home.getlistofnotes()\n",
    "Cenital.saveinfo(listadenotas)\n",
    "Cenital.removemetadata(listadenotas)\n",
    "#for key, data in listadenotas.items():\n",
    "noticia = Cenital.Noticia(list(listadenotas.values())[0][\"Url\"])\n"
   ]
  },
  {
   "cell_type": "code",
   "execution_count": 146,
   "metadata": {},
   "outputs": [
    {
     "name": "stdout",
     "output_type": "stream",
     "text": [
      "bingo!\n",
      "{'metadata': {'timestampofsearch': 1560662531.064654, 'timeofsearch': '2019-06-16T02:22:11.064654', 'filename': './dataCenital/raw/notaid-63773.json'}, 'hola': 'chau'}\n"
     ]
    }
   ],
   "source": [
    "noticia.generarinfo()\n",
    "print (noticia.info)"
   ]
  },
  {
   "cell_type": "code",
   "execution_count": 51,
   "metadata": {},
   "outputs": [
    {
     "name": "stdout",
     "output_type": "stream",
     "text": [
      " De dónde vienen los dólares\n",
      " ¿Inflación o inflaciones?\n",
      " Qué dicen los balances de Mercado Libre\n",
      " Pichetto y el mundo\n",
      " Toda la carne al asador\n",
      "Sergio Moro, apoyos militares y cuestionamientos civiles\n",
      "\"Publicamos menos del 1% de la información que tenemos\"\n",
      "Lava Jato, Lula y Sergio Moro: algo huele mal en Curitiba\n",
      "La cartuchera de Harry el sucio\n",
      " La AGN demanda a la Oficina Anticorrupción por no dejarse controlar\n",
      " La fábrica abandonada\n",
      " Todo preso es económico\n",
      " La ciudad en venta\n",
      " Kicillof: \"La gente nos dice que nos dejemos de joder y vayamos todos juntos\"\n",
      " 5G y el regreso de la política bipolar\n",
      " Brasil: medio año más en el reino de la incertidumbre\n",
      " Sudán: masacres de primavera\n",
      " Para Pichetto, \"va a haber mucho peronismo detrás del presidente Macri\"\n",
      " Se viene otro superdomingo electoral\n",
      " La Justicia avaló la decisión de Macri de no votar para legisladores del Mercosur\n",
      " Estados Unidos refuerza la acusación contra Irán con la publicación de un video\n",
      "<div class=\"box-imagen\" style=\"width:100%;\"><a class=\"mask-imagen\" href=\"2019/06/13/delivery-de-gobernabilidad/63755\" style=\"background-image:url(contenido/../contenido/noticias/original/1560433855.jpeg);background-size:cover;\"></a><a href=\"2019/06/13/delivery-de-gobernabilidad/63755\"><img class=\"img-responsive\" src=\"contenido/../contenido/noticias/original/1560433855.jpeg\" style=\"width:100%;\"/></a><ul class=\"redes-notas-single\"><li><a href=\"2019/06/13/delivery-de-gobernabilidad/63755\" title=\"\"><i class=\"fa fa-share-alt\"></i></a></li></ul><ul class=\"redes-notas\"><li><a class=\"btn-facebook\" href='javascript:window.open(\"https://www.facebook.com/sharer.php?u=https://www.cenital.com/2019/06/13/delivery-de-gobernabilidad/63755\", \"_new\", \"width=600, height=400, top=100, left=100\");' title=\"\"><i class=\"fa fa-facebook\"></i></a></li><li><a class=\"btn-twitter\" href='javascript:window.open(\"https://twitter.com/share?url=https://www.cenital.com/2019/06/13/delivery-de-gobernabilidad/63755\", \"_new\", \"width=600, height=400, top=100, left=100\");' title=\"\"><i class=\"fa fa-twitter\"></i></a></li><li><a class=\"btn-googleplus\" href='javascript:window.open(\"https://plus.google.com/share?url=https://www.cenital.com/2019/06/13/delivery-de-gobernabilidad/63755\", \"_new\", \"width=600, height=400, top=100, left=100\");' title=\"\"><i class=\"fa fa-google-plus\"></i></a></li><li><a class=\"whatsapp\" data-action=\"share/whatsapp/share\" href=\"whatsapp://send?text=https://www.cenital.com/2019/06/13/delivery-de-gobernabilidad/63755\"><i class=\"fa fa-whatsapp\"></i></a></li></ul></div>\n"
     ]
    },
    {
     "ename": "AssertionError",
     "evalue": "error, se encontro mas de un titulo por nota",
     "output_type": "error",
     "traceback": [
      "\u001b[1;31m---------------------------------------------------------------------------\u001b[0m",
      "\u001b[1;31mAssertionError\u001b[0m                            Traceback (most recent call last)",
      "\u001b[1;32m<ipython-input-51-02f381bf3914>\u001b[0m in \u001b[0;36m<module>\u001b[1;34m\u001b[0m\n\u001b[0;32m     10\u001b[0m     \u001b[0mtitulo\u001b[0m \u001b[1;33m=\u001b[0m \u001b[0mnota\u001b[0m\u001b[1;33m.\u001b[0m\u001b[0mfind_all\u001b[0m\u001b[1;33m(\u001b[0m\u001b[0mattrs\u001b[0m\u001b[1;33m=\u001b[0m\u001b[1;33m{\u001b[0m\u001b[1;34m\"class\"\u001b[0m\u001b[1;33m:\u001b[0m\u001b[1;34m\"card-title\"\u001b[0m\u001b[1;33m}\u001b[0m\u001b[1;33m)\u001b[0m\u001b[1;33m\u001b[0m\u001b[1;33m\u001b[0m\u001b[0m\n\u001b[0;32m     11\u001b[0m     \u001b[0mprint\u001b[0m \u001b[1;33m(\u001b[0m\u001b[0mnota\u001b[0m\u001b[1;33m)\u001b[0m\u001b[1;33m\u001b[0m\u001b[1;33m\u001b[0m\u001b[0m\n\u001b[1;32m---> 12\u001b[1;33m     \u001b[1;32massert\u001b[0m \u001b[0mlen\u001b[0m \u001b[1;33m(\u001b[0m\u001b[0mtitulo\u001b[0m\u001b[1;33m)\u001b[0m \u001b[1;33m==\u001b[0m \u001b[1;36m1\u001b[0m\u001b[1;33m,\u001b[0m \u001b[1;34m\"error, se encontro mas de un titulo por nota\"\u001b[0m\u001b[1;33m\u001b[0m\u001b[1;33m\u001b[0m\u001b[0m\n\u001b[0m\u001b[0;32m     13\u001b[0m     \u001b[0mprint\u001b[0m \u001b[1;33m(\u001b[0m\u001b[0mtitulo\u001b[0m\u001b[1;33m[\u001b[0m\u001b[1;36m0\u001b[0m\u001b[1;33m]\u001b[0m\u001b[1;33m.\u001b[0m\u001b[0ma\u001b[0m\u001b[1;33m.\u001b[0m\u001b[0mstring\u001b[0m\u001b[1;33m)\u001b[0m\u001b[1;33m\u001b[0m\u001b[1;33m\u001b[0m\u001b[0m\n\u001b[0;32m     14\u001b[0m \u001b[1;33m\u001b[0m\u001b[0m\n",
      "\u001b[1;31mAssertionError\u001b[0m: error, se encontro mas de un titulo por nota"
     ]
    }
   ],
   "source": [
    "for nota in notas:\n",
    "    titulo = nota.find_all(attrs={\"class\":\"card-title\"})\n",
    "    assert len (titulo) == 1, \"error, se encontro mas de un titulo por nota\"\n",
    "    print (titulo[0].a.string)\n",
    "for nota in notas2:\n",
    "    titulo = nota.find_all(attrs={\"class\":\"card-title\"})\n",
    "    assert len (titulo) == 1, \"error, se encontro mas de un titulo por nota\"\n",
    "    print (titulo[0].a.string)\n",
    "for nota in notas3:\n",
    "    titulo = nota.find_all(attrs={\"class\":\"card-title\"})\n",
    "    print (nota)\n",
    "    assert len (titulo) == 1, \"error, se encontro mas de un titulo por nota\"\n",
    "    print (titulo[0].a.string)\n",
    "\n"
   ]
  },
  {
   "cell_type": "code",
   "execution_count": 63,
   "metadata": {},
   "outputs": [
    {
     "name": "stdout",
     "output_type": "stream",
     "text": [
      "¿Cómo funciona el FMI por dentro?\n",
      "2019/06/15/como-funciona-el-fmi-por-dentro-/63773\n",
      " De dónde vienen los dólares\n",
      "2019/06/15/de-donde-vienen-los-dolares/63771\n",
      " ¿Inflación o inflaciones?\n",
      "2019/06/14/inflacion-o-inflaciones-/63770\n",
      " Qué dicen los balances de Mercado Libre\n",
      "2019/06/14/que-dicen-los-balances-de-mercado-libre/63766\n",
      " Para Pichetto, \"va a haber mucho peronismo detrás del presidente Macri\"\n",
      "2019/06/14/para-pichetto--va-a-haber-mucho-peronismo-detras-del-presidente-macri/63768\n",
      " Se viene otro superdomingo electoral\n",
      "2019/06/14/se-viene-otro-superdomingo-electoral/63765\n",
      " La Justicia avaló la decisión de Macri de no votar para legisladores del Mercosur\n",
      "2019/06/14/la-justicia-avalo-la-decision-de-macri-de-no-votar-para-legisladores-del-mercosur/63767\n",
      " Estados Unidos refuerza la acusación contra Irán con la publicación de un video\n",
      "2019/06/14/estados-unidos-refuerza-la-acusacion-contra-iran-con-la-publicacion-de-un-video/63763\n",
      "Delivery de gobernabilidad\n",
      "2019/06/13/delivery-de-gobernabilidad/63755\n",
      " Pichetto y el mundo\n",
      "2019/06/13/pichetto-y-el-mundo/63760\n",
      " Toda la carne al asador\n",
      "2019/06/12/toda-la-carne-al-asador/63744\n",
      "Sergio Moro, apoyos militares y cuestionamientos civiles\n",
      "2019/06/12/sergio-moro--apoyos-militares-y-cuestionamientos-civiles/63747\n",
      "\"Publicamos menos del 1% de la información que tenemos\"\n",
      "2019/06/10/publicamos-menos-del-1-de-la-informacion-que-tenemos/63733\n",
      "Lava Jato, Lula y Sergio Moro: algo huele mal en Curitiba\n",
      "2019/06/10/lava-jato--lula-y-sergio-moro-algo-huele-mal-en-curitiba/63724\n",
      "La cartuchera de Harry el sucio\n",
      "2019/06/10/la-cartuchera-de-harry-el-sucio/63723\n",
      "Focus: hablemos de las próximas elecciones\n",
      "2019/06/15/focus-hablemos-de-las-proximas-elecciones/63772\n",
      " La AGN demanda a la Oficina Anticorrupción por no dejarse controlar\n",
      "2019/06/12/la-agn-demanda-a-la-oficina-anticorrupcion-por-no-dejarse-controlar/63751\n",
      " La fábrica abandonada\n",
      "2019/06/12/la-fabrica-abandonada/63745\n",
      " Todo preso es económico\n",
      "2019/06/12/todo-preso-es-economico/63748\n",
      " La ciudad en venta\n",
      "2019/06/08/la-ciudad-en-venta/63712\n",
      " Kicillof: \"La gente nos dice que nos dejemos de joder y vayamos todos juntos\"\n",
      "2019/06/07/kicillof-la-gente-nos-dice-que-nos-dejemos-de-joder-y-vayamos-todos-juntos/63702\n",
      " Pauta fantasma: el millonario desvío de fondos durante la campaña 2015\n",
      "2019/06/09/pauta-fantasma-el-millonario-desvio-de-fondos-durante-la-campaña-2015/63718\n",
      " 5G y el regreso de la política bipolar\n",
      "2019/06/07/5g-y-el-regreso-de-la-politica-bipolar/63698\n",
      " Brasil: medio año más en el reino de la incertidumbre\n",
      "2019/06/06/brasil-medio-año-mas-en-el-reino-de-la-incertidumbre/63697\n",
      " Sudán: masacres de primavera\n",
      "2019/06/06/sudan-masacres-de-primavera/63691\n"
     ]
    }
   ],
   "source": [
    "for titulo in titulos:\n",
    "    vinculo = titulo.find_all(\"a\")\n",
    "    assert len (vinculo) == 1, \"error, se encontro mas de un titulo por nota\"\n",
    "    print (vinculo[0].string)\n",
    "    print (vinculo[0]['href'])"
   ]
  },
  {
   "cell_type": "code",
   "execution_count": 55,
   "metadata": {},
   "outputs": [
    {
     "data": {
      "text/plain": [
       "<h1 class=\"card-title titulo titulo-lg\"><span class=\"amarillo font-16 hidden\"> 15/06/2019 18:06:00</span><a href=\"2019/06/15/como-funciona-el-fmi-por-dentro-/63773\">¿Cómo funciona el FMI por dentro?</a></h1>"
      ]
     },
     "execution_count": 55,
     "metadata": {},
     "output_type": "execute_result"
    }
   ],
   "source": [
    "titulos[0]"
   ]
  }
 ],
 "metadata": {
  "kernelspec": {
   "display_name": "Python (Simian)",
   "language": "python",
   "name": "simian"
  },
  "language_info": {
   "codemirror_mode": {
    "name": "ipython",
    "version": 3
   },
   "file_extension": ".py",
   "mimetype": "text/x-python",
   "name": "python",
   "nbconvert_exporter": "python",
   "pygments_lexer": "ipython3",
   "version": "3.7.3"
  }
 },
 "nbformat": 4,
 "nbformat_minor": 2
}
