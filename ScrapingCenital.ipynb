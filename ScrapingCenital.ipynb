{
 "cells": [
  {
   "cell_type": "code",
   "execution_count": 32,
   "metadata": {},
   "outputs": [],
   "source": [
    "import requests\n",
    "from bs4 import BeautifulSoup\n",
    "import time\n",
    "import datetime\n",
    "import json\n",
    "import os\n",
    "\n",
    "class Cenital:\n",
    "    \n",
    "    myname = \"Cenital\"\n",
    "    savefolder = \"./dataCenital/\"\n",
    "    rawdata = \"raw/\"\n",
    "    \n",
    "    class Home:\n",
    "    \n",
    "        url = \"https://www.cenital.com/\"\n",
    "        \n",
    "        def buscarnotas():\n",
    "            \n",
    "            cenital = Cenital()\n",
    "            cenital.gethome()\n",
    "            listadenotas = cenital.home.getlistofnotes()\n",
    "            Cenital.saveinfo(listadenotas)\n",
    "            Cenital.removemetadata(listadenotas)\n",
    "            return listadenotas\n",
    "\n",
    "        def __init__ (self):\n",
    "            self.page = requests.get(self.url)\n",
    "            if self.page.status_code != 200:\n",
    "                print (self.page.status_code)\n",
    "            else:\n",
    "                print (\"Home de \" + Cenital.myname + \" descargado con exito.\")\n",
    "            self.bpage = BeautifulSoup(self.page.content, 'html.parser')\n",
    "\n",
    "        def printpretty(self):\n",
    "            print(self.bpage.prettify())\n",
    "            \n",
    "        def getlistofnotes(self):\n",
    "            info = Cenital.generateinfo(\"-notasHome\")\n",
    "            # Buscamos con el class card-title todas las notas porque es lo unico que idententifica a todas las notas del home\n",
    "            titulos = self.bpage.find_all(attrs={\"class\":\"card-title\"})\n",
    "            for titulo in titulos:\n",
    "                vinculo = titulo.find_all(\"a\")\n",
    "                assert len (vinculo) == 1, \"error, se encontro mas de un titulo por nota\"\n",
    "                info [vinculo[0]['href']] = {}\n",
    "                info [vinculo[0]['href']][\"Url\"] = Cenital.Home.url + vinculo[0]['href']\n",
    "                info [vinculo[0]['href']][\"Titulo\"] = vinculo[0].string\n",
    "            return info\n",
    "            \n",
    "    class Noticia:\n",
    "        \n",
    "        def __init__ (self,url):\n",
    "            self.url = url\n",
    "            self.id = self.url.split(\"/\")[-1]\n",
    "            print (self.id)\n",
    "            self.page = requests.get(self.url)\n",
    "            if self.page.status_code != 200:\n",
    "                print (self.page.status_code)\n",
    "            else:\n",
    "                print (\"Nota \" + self.url + \" descargada con exito.\")\n",
    "            self.bpage = BeautifulSoup(self.page.content, 'html.parser')\n",
    "\n",
    "        def printpretty(self):\n",
    "            print(self.bpage.prettify())\n",
    "        \n",
    "        def generarinfo(self):\n",
    "            self.info = Cenital.generateinfo(\"notaid-\"+self.id,fecha=False)\n",
    "            self.datosprevios = False\n",
    "            # Aca hay que recopilar la info como si no hubiera datos previos y despues comparar en caso de que haya\n",
    "            self.info[\"Titulo\"] = self.bpage.find_all(\"title\")[0].string\n",
    "            self.buscardatosprevios()\n",
    "            Cenital.saveinfo(self.info)\n",
    "            return self.info\n",
    "            \n",
    "        def buscardatosprevios(self):\n",
    "            if os.path.exists(self.info[\"metadata\"][\"filename\"]):\n",
    "                self.datosprevios = True\n",
    "                with open(self.info[\"metadata\"][\"filename\"]) as file:  \n",
    "                    self.infoprevia = json.load(file)\n",
    "                \n",
    "                \n",
    "    def gethome(self):\n",
    "        self.home = self.Home()\n",
    "        \n",
    "    def generateinfo (name,fecha=True):\n",
    "        info = {}\n",
    "        info[\"metadata\"] = {}\n",
    "        info[\"metadata\"][\"timestampofsearch\"] = datetime.datetime.now().timestamp()\n",
    "        info[\"metadata\"][\"timeofsearch\"] = datetime.datetime.fromtimestamp(info[\"metadata\"][\"timestampofsearch\"]).isoformat()\n",
    "        if fecha:\n",
    "            info[\"metadata\"][\"filename\"] = Cenital.savefolder + Cenital.rawdata + datetime.datetime.fromtimestamp(info[\"metadata\"][\"timestampofsearch\"]).strftime(\"%Y-%m-%d-%H-%M\") + name + \".json\"\n",
    "        else:\n",
    "            info[\"metadata\"][\"filename\"] = Cenital.savefolder + Cenital.rawdata + name + \".json\"\n",
    "        return info\n",
    "        \n",
    "    def removemetadata(info):\n",
    "        del info[\"metadata\"]\n",
    "        \n",
    "    def saveinfo(info):\n",
    "        with open(info[\"metadata\"][\"filename\"], 'w') as f:\n",
    "            json.dump(info, f)\n",
    "            \n",
    "    \n",
    "        \n",
    "        \n",
    "    # Inicializa las carpetas si no existen\n",
    "    if not os.path.exists(savefolder):\n",
    "        os.makedirs(savefolder)\n",
    "    if not os.path.exists(savefolder+rawdata):\n",
    "        os.makedirs(savefolder+rawdata)\n",
    "    \n",
    "    "
   ]
  },
  {
   "cell_type": "code",
   "execution_count": 34,
   "metadata": {},
   "outputs": [
    {
     "name": "stdout",
     "output_type": "stream",
     "text": [
      "Home de Cenital descargado con exito.\n",
      "63776\n",
      "Nota https://www.cenital.com/2019/06/16/la-soga-que-une-dolores-con-comodoro-py/63776 descargada con exito.\n"
     ]
    },
    {
     "data": {
      "text/plain": [
       "[<title>La soga que une Dolores con Comodoro Py</title>]"
      ]
     },
     "execution_count": 34,
     "metadata": {},
     "output_type": "execute_result"
    }
   ],
   "source": [
    "\"\"\"\n",
    "listadenotas = Cenital.Home.buscarnotas()\n",
    "for nota in list(listadenotas.values()):\n",
    "    print (nota[\"Titulo\"])\n",
    "\"\"\"\n",
    "noticia = Cenital.Noticia(list( Cenital.Home.buscarnotas().values())[1][\"Url\"])\n",
    "noticia.bpage.find_all(\"title\")"
   ]
  },
  {
   "cell_type": "code",
   "execution_count": 35,
   "metadata": {},
   "outputs": [
    {
     "data": {
      "text/plain": [
       "'La soga que une Dolores con Comodoro Py'"
      ]
     },
     "execution_count": 35,
     "metadata": {},
     "output_type": "execute_result"
    }
   ],
   "source": [
    "noticia.bpage.find_all(\"title\")[0].string"
   ]
  },
  {
   "cell_type": "code",
   "execution_count": 36,
   "metadata": {},
   "outputs": [
    {
     "name": "stdout",
     "output_type": "stream",
     "text": [
      "cucu\n",
      "{'metadata': {'timestampofsearch': 1560724008.685024, 'timeofsearch': '2019-06-16T19:26:48.685024', 'filename': './dataCenital/raw/notaid-63776.json'}, 'Titulo': 'La soga que une Dolores con Comodoro Py'}\n"
     ]
    }
   ],
   "source": [
    "print (noticia.generarinfo())\n",
    "\n"
   ]
  },
  {
   "cell_type": "code",
   "execution_count": 63,
   "metadata": {},
   "outputs": [
    {
     "name": "stdout",
     "output_type": "stream",
     "text": [
      "¿Cómo funciona el FMI por dentro?\n",
      "2019/06/15/como-funciona-el-fmi-por-dentro-/63773\n",
      " De dónde vienen los dólares\n",
      "2019/06/15/de-donde-vienen-los-dolares/63771\n",
      " ¿Inflación o inflaciones?\n",
      "2019/06/14/inflacion-o-inflaciones-/63770\n",
      " Qué dicen los balances de Mercado Libre\n",
      "2019/06/14/que-dicen-los-balances-de-mercado-libre/63766\n",
      " Para Pichetto, \"va a haber mucho peronismo detrás del presidente Macri\"\n",
      "2019/06/14/para-pichetto--va-a-haber-mucho-peronismo-detras-del-presidente-macri/63768\n",
      " Se viene otro superdomingo electoral\n",
      "2019/06/14/se-viene-otro-superdomingo-electoral/63765\n",
      " La Justicia avaló la decisión de Macri de no votar para legisladores del Mercosur\n",
      "2019/06/14/la-justicia-avalo-la-decision-de-macri-de-no-votar-para-legisladores-del-mercosur/63767\n",
      " Estados Unidos refuerza la acusación contra Irán con la publicación de un video\n",
      "2019/06/14/estados-unidos-refuerza-la-acusacion-contra-iran-con-la-publicacion-de-un-video/63763\n",
      "Delivery de gobernabilidad\n",
      "2019/06/13/delivery-de-gobernabilidad/63755\n",
      " Pichetto y el mundo\n",
      "2019/06/13/pichetto-y-el-mundo/63760\n",
      " Toda la carne al asador\n",
      "2019/06/12/toda-la-carne-al-asador/63744\n",
      "Sergio Moro, apoyos militares y cuestionamientos civiles\n",
      "2019/06/12/sergio-moro--apoyos-militares-y-cuestionamientos-civiles/63747\n",
      "\"Publicamos menos del 1% de la información que tenemos\"\n",
      "2019/06/10/publicamos-menos-del-1-de-la-informacion-que-tenemos/63733\n",
      "Lava Jato, Lula y Sergio Moro: algo huele mal en Curitiba\n",
      "2019/06/10/lava-jato--lula-y-sergio-moro-algo-huele-mal-en-curitiba/63724\n",
      "La cartuchera de Harry el sucio\n",
      "2019/06/10/la-cartuchera-de-harry-el-sucio/63723\n",
      "Focus: hablemos de las próximas elecciones\n",
      "2019/06/15/focus-hablemos-de-las-proximas-elecciones/63772\n",
      " La AGN demanda a la Oficina Anticorrupción por no dejarse controlar\n",
      "2019/06/12/la-agn-demanda-a-la-oficina-anticorrupcion-por-no-dejarse-controlar/63751\n",
      " La fábrica abandonada\n",
      "2019/06/12/la-fabrica-abandonada/63745\n",
      " Todo preso es económico\n",
      "2019/06/12/todo-preso-es-economico/63748\n",
      " La ciudad en venta\n",
      "2019/06/08/la-ciudad-en-venta/63712\n",
      " Kicillof: \"La gente nos dice que nos dejemos de joder y vayamos todos juntos\"\n",
      "2019/06/07/kicillof-la-gente-nos-dice-que-nos-dejemos-de-joder-y-vayamos-todos-juntos/63702\n",
      " Pauta fantasma: el millonario desvío de fondos durante la campaña 2015\n",
      "2019/06/09/pauta-fantasma-el-millonario-desvio-de-fondos-durante-la-campaña-2015/63718\n",
      " 5G y el regreso de la política bipolar\n",
      "2019/06/07/5g-y-el-regreso-de-la-politica-bipolar/63698\n",
      " Brasil: medio año más en el reino de la incertidumbre\n",
      "2019/06/06/brasil-medio-año-mas-en-el-reino-de-la-incertidumbre/63697\n",
      " Sudán: masacres de primavera\n",
      "2019/06/06/sudan-masacres-de-primavera/63691\n"
     ]
    }
   ],
   "source": [
    "for titulo in titulos:\n",
    "    vinculo = titulo.find_all(\"a\")\n",
    "    assert len (vinculo) == 1, \"error, se encontro mas de un titulo por nota\"\n",
    "    print (vinculo[0].string)\n",
    "    print (vinculo[0]['href'])"
   ]
  },
  {
   "cell_type": "code",
   "execution_count": 55,
   "metadata": {},
   "outputs": [
    {
     "data": {
      "text/plain": [
       "<h1 class=\"card-title titulo titulo-lg\"><span class=\"amarillo font-16 hidden\"> 15/06/2019 18:06:00</span><a href=\"2019/06/15/como-funciona-el-fmi-por-dentro-/63773\">¿Cómo funciona el FMI por dentro?</a></h1>"
      ]
     },
     "execution_count": 55,
     "metadata": {},
     "output_type": "execute_result"
    }
   ],
   "source": [
    "titulos[0]"
   ]
  }
 ],
 "metadata": {
  "kernelspec": {
   "display_name": "Python (Simian)",
   "language": "python",
   "name": "simian"
  },
  "language_info": {
   "codemirror_mode": {
    "name": "ipython",
    "version": 3
   },
   "file_extension": ".py",
   "mimetype": "text/x-python",
   "name": "python",
   "nbconvert_exporter": "python",
   "pygments_lexer": "ipython3",
   "version": "3.7.1"
  }
 },
 "nbformat": 4,
 "nbformat_minor": 2
}
