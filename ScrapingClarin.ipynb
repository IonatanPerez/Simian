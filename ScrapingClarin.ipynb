{
 "cells": [
  {
   "cell_type": "code",
   "execution_count": 1,
   "metadata": {},
   "outputs": [],
   "source": [
    "import requests\n",
    "from bs4 import BeautifulSoup\n",
    "import time\n",
    "import datetime\n",
    "import json\n",
    "import os\n",
    "\n",
    "class Clarin:\n",
    "    \n",
    "    myname = \"Clarin\"\n",
    "    savefolder = \"./dataClarin/\"\n",
    "    rawdata = \"raw/\"\n",
    "    \n",
    "    class Home:\n",
    "    \n",
    "        url = \"https://www.clarin.com/\"\n",
    "       \n",
    "    \n",
    "        def __init__ (self):\n",
    "            self.page = requests.get(self.url)\n",
    "            if self.page.status_code != 200:\n",
    "                print (self.page.status_code)\n",
    "            else:\n",
    "                print (\"Home de \" + Clarin.myname + \" descargado con exito.\")\n",
    "            self.bpage = BeautifulSoup(self.page.content, 'html.parser')\n",
    "\n",
    "        def searchthings(self):\n",
    "            # TODO. Ver que onda https://www.clarin.com/ultimas-noticias/\n",
    "            # TODO. Ver que onda https://www.clarin.com/noticias-mas-leidas/\n",
    "            \n",
    "            pass\n",
    "    \n",
    "    def searchHome(self):\n",
    "        info = {}\n",
    "        info[\"timestampofsearch\"] = datetime.datetime.now().timestamp()\n",
    "        info[\"timeofsearch\"] = datetime.datetime.fromtimestamp(info[\"timestampofsearch\"]).isoformat()\n",
    "        info[\"filename\"] = self.savefolder + self.rawdata + datetime.datetime.fromtimestamp(info[\"timestampofsearch\"]).strftime(\"%Y-%m-%d-%H-%M\") + \".json\"\n",
    "        \n",
    "        home = self.Home()\n",
    "        \n",
    "        infoTemperatura = home.bpage.find_all(attrs={\"class\":\"temperatura\"})\n",
    "        assert len(infoTemperatura) == 1, \"La busqueda de temperatura no encontro lo esperado\"\n",
    "        info[\"temperatura\"]=infoTemperatura[0].contents[0]\n",
    "        info[\"sensacion_termica\"]=infoTemperatura[0].contents[1].contents[0]\n",
    "        with open(info[\"filename\"], 'w') as f:\n",
    "            json.dump(info, f)\n",
    "        \n",
    "    # Inicializa las carpetas si no existen\n",
    "    if not os.path.exists(savefolder):\n",
    "        os.makedirs(savefolder)\n",
    "    if not os.path.exists(savefolder+rawdata):\n",
    "        os.makedirs(savefolder+rawdata)\n",
    "    \n",
    "    \n",
    "def main():\n",
    "    clarin = Clarin()\n",
    "    while True:\n",
    "        clarin.searchHome()\n",
    "        time.sleep(300)\n",
    "    "
   ]
  },
  {
   "cell_type": "code",
   "execution_count": null,
   "metadata": {},
   "outputs": [
    {
     "name": "stdout",
     "output_type": "stream",
     "text": [
      "Home de Clarin descargado con exito.\n",
      "Home de Clarin descargado con exito.\n",
      "Home de Clarin descargado con exito.\n",
      "Home de Clarin descargado con exito.\n",
      "Home de Clarin descargado con exito.\n",
      "Home de Clarin descargado con exito.\n",
      "Home de Clarin descargado con exito.\n",
      "Home de Clarin descargado con exito.\n",
      "Home de Clarin descargado con exito.\n",
      "Home de Clarin descargado con exito.\n",
      "Home de Clarin descargado con exito.\n",
      "Home de Clarin descargado con exito.\n",
      "Home de Clarin descargado con exito.\n",
      "Home de Clarin descargado con exito.\n",
      "Home de Clarin descargado con exito.\n",
      "Home de Clarin descargado con exito.\n",
      "Home de Clarin descargado con exito.\n",
      "Home de Clarin descargado con exito.\n",
      "Home de Clarin descargado con exito.\n",
      "Home de Clarin descargado con exito.\n",
      "Home de Clarin descargado con exito.\n",
      "Home de Clarin descargado con exito.\n",
      "Home de Clarin descargado con exito.\n",
      "Home de Clarin descargado con exito.\n",
      "Home de Clarin descargado con exito.\n",
      "Home de Clarin descargado con exito.\n"
     ]
    }
   ],
   "source": [
    "main()"
   ]
  },
  {
   "cell_type": "code",
   "execution_count": null,
   "metadata": {},
   "outputs": [],
   "source": [
    "NotasHome = soup.find_all(attrs={\"data-name\": \"content\"})\n",
    "#print (*extracto, sep = \"\\n\\n\")\n",
    "#for nota in NotasHome:\n",
    "procesarHomeClarin(NotasHome[0])"
   ]
  }
 ],
 "metadata": {
  "kernelspec": {
   "display_name": "Python (Simian)",
   "language": "python",
   "name": "simian"
  },
  "language_info": {
   "codemirror_mode": {
    "name": "ipython",
    "version": 3
   },
   "file_extension": ".py",
   "mimetype": "text/x-python",
   "name": "python",
   "nbconvert_exporter": "python",
   "pygments_lexer": "ipython3",
   "version": "3.7.3"
  }
 },
 "nbformat": 4,
 "nbformat_minor": 2
}
