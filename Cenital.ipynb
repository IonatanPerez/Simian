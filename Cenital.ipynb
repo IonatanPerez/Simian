{
 "cells": [
  {
   "cell_type": "code",
   "execution_count": 1,
   "metadata": {},
   "outputs": [
    {
     "name": "stdout",
     "output_type": "stream",
     "text": [
      "Recuerde que para que esta clase funcione debe incluir self.chequeosdeimplementacion() en caso de sobreescrbir el __init__\n"
     ]
    }
   ],
   "source": [
    "from scraping import *\n",
    "\n",
    "class Cenital(Portal):\n",
    "    \n",
    "    name = \"Cenital\"\n",
    "    url = \"https://www.cenital.com/\""
   ]
  },
  {
   "cell_type": "code",
   "execution_count": 2,
   "metadata": {},
   "outputs": [
    {
     "name": "stdout",
     "output_type": "stream",
     "text": [
      "http://www.lanacion.com/ descargada con exito.\n",
      "runinit Home\n",
      "http://www.lanacion.com/ descargada con exito.\n"
     ]
    }
   ],
   "source": [
    "#cenital = Cenital()\n",
    "home = Home(\"http://www.lanacion.com/\")\n",
    "home.runoninit(\"http://www.lanacion.com/\")"
   ]
  },
  {
   "cell_type": "code",
   "execution_count": 5,
   "metadata": {},
   "outputs": [
    {
     "ename": "AttributeError",
     "evalue": "'Cenital' object has no attribute 'home'",
     "output_type": "error",
     "traceback": [
      "\u001b[0;31m---------------------------------------------------------------------------\u001b[0m",
      "\u001b[0;31mAttributeError\u001b[0m                            Traceback (most recent call last)",
      "\u001b[0;32m<ipython-input-5-ba047312109b>\u001b[0m in \u001b[0;36m<module>\u001b[0;34m\u001b[0m\n\u001b[0;32m----> 1\u001b[0;31m \u001b[0mcenital\u001b[0m\u001b[0;34m.\u001b[0m\u001b[0mhome\u001b[0m\u001b[0;34m.\u001b[0m\u001b[0mprintpretty\u001b[0m\u001b[0;34m(\u001b[0m\u001b[0;34m)\u001b[0m\u001b[0;34m\u001b[0m\u001b[0;34m\u001b[0m\u001b[0m\n\u001b[0m",
      "\u001b[0;31mAttributeError\u001b[0m: 'Cenital' object has no attribute 'home'"
     ]
    }
   ],
   "source": [
    "cenital.home.printpretty()"
   ]
  }
 ],
 "metadata": {
  "kernelspec": {
   "display_name": "Python (Simian)",
   "language": "python",
   "name": "simian"
  },
  "language_info": {
   "codemirror_mode": {
    "name": "ipython",
    "version": 3
   },
   "file_extension": ".py",
   "mimetype": "text/x-python",
   "name": "python",
   "nbconvert_exporter": "python",
   "pygments_lexer": "ipython3",
   "version": "3.7.1"
  }
 },
 "nbformat": 4,
 "nbformat_minor": 2
}
