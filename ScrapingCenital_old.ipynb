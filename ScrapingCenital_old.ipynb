{
 "cells": [
  {
   "cell_type": "code",
   "execution_count": 1,
   "metadata": {},
   "outputs": [],
   "source": [
    "import requests\n",
    "from bs4 import BeautifulSoup\n",
    "import time\n",
    "import datetime\n",
    "import json\n",
    "import os\n",
    "\n",
    "class Cenital:\n",
    "    \n",
    "    myname = \"Cenital\"\n",
    "    savefolder = \"./dataCenital/\"\n",
    "    rawdata = \"raw/\"\n",
    "    \n",
    "    class Home:\n",
    "    \n",
    "        url = \"https://www.cenital.com/\"\n",
    "        \n",
    "        def buscarnotas():\n",
    "            \n",
    "            cenital = Cenital()\n",
    "            cenital.gethome()\n",
    "            listadenotas = cenital.home.getlistofnotes()\n",
    "            Cenital.saveinfo(listadenotas)\n",
    "            Cenital.removemetadata(listadenotas)\n",
    "            return listadenotas\n",
    "\n",
    "        def __init__ (self):\n",
    "            self.page = requests.get(self.url)\n",
    "            if self.page.status_code != 200:\n",
    "                print (self.page.status_code)\n",
    "            else:\n",
    "                print (\"Home de \" + Cenital.myname + \" descargado con exito.\")\n",
    "            self.bpage = BeautifulSoup(self.page.content, 'html.parser')\n",
    "\n",
    "        def printpretty(self):\n",
    "            print(self.bpage.prettify())\n",
    "            \n",
    "        def getlistofnotes(self):\n",
    "            info = Cenital.generateinfo(\"-notasHome\")\n",
    "            # Buscamos con el class card-title todas las notas porque es lo unico que idententifica a todas las notas del home\n",
    "            titulos = self.bpage.find_all(attrs={\"class\":\"card-title\"})\n",
    "            for titulo in titulos:\n",
    "                vinculo = titulo.find_all(\"a\")\n",
    "                assert len (vinculo) == 1, \"error, se encontro mas de un titulo por nota\"\n",
    "                info [vinculo[0]['href']] = {}\n",
    "                info [vinculo[0]['href']][\"Url\"] = Cenital.Home.url + vinculo[0]['href']\n",
    "                info [vinculo[0]['href']][\"Titulo\"] = vinculo[0].string\n",
    "            return info\n",
    "            \n",
    "    class Noticia:\n",
    "        \n",
    "        def __init__ (self,url):\n",
    "            self.url = url\n",
    "            self.id = self.url.split(\"/\")[-1]\n",
    "            print (self.id)\n",
    "            self.page = requests.get(self.url)\n",
    "            if self.page.status_code != 200:\n",
    "                print (self.page.status_code)\n",
    "            else:\n",
    "                print (\"Nota \" + self.url + \" descargada con exito.\")\n",
    "            self.bpage = BeautifulSoup(self.page.content, 'html.parser')\n",
    "\n",
    "        def printpretty(self):\n",
    "            print(self.bpage.prettify())\n",
    "        \n",
    "        def generarinfo(self):\n",
    "            self.info = Cenital.generateinfo(\"notaid-\"+self.id,fecha=False)\n",
    "            self.datosprevios = False\n",
    "            # Aca hay que recopilar la info como si no hubiera datos previos y despues comparar en caso de que haya\n",
    "            self.info[\"Titulo\"] = self.bpage.find_all(\"title\")[0].string\n",
    "            self.buscardatosprevios()\n",
    "            Cenital.saveinfo(self.info)\n",
    "            return self.info\n",
    "            \n",
    "        def buscardatosprevios(self):\n",
    "            if os.path.exists(self.info[\"metadata\"][\"filename\"]):\n",
    "                self.datosprevios = True\n",
    "                with open(self.info[\"metadata\"][\"filename\"]) as file:  \n",
    "                    self.infoprevia = json.load(file)\n",
    "                \n",
    "                \n",
    "    def gethome(self):\n",
    "        self.home = self.Home()\n",
    "        \n",
    "    def generateinfo (name,fecha=True):\n",
    "        info = {}\n",
    "        info[\"metadata\"] = {}\n",
    "        info[\"metadata\"][\"timestampofsearch\"] = datetime.datetime.now().timestamp()\n",
    "        info[\"metadata\"][\"timeofsearch\"] = datetime.datetime.fromtimestamp(info[\"metadata\"][\"timestampofsearch\"]).isoformat()\n",
    "        if fecha:\n",
    "            info[\"metadata\"][\"filename\"] = Cenital.savefolder + Cenital.rawdata + datetime.datetime.fromtimestamp(info[\"metadata\"][\"timestampofsearch\"]).strftime(\"%Y-%m-%d-%H-%M\") + name + \".json\"\n",
    "        else:\n",
    "            info[\"metadata\"][\"filename\"] = Cenital.savefolder + Cenital.rawdata + name + \".json\"\n",
    "        return info\n",
    "        \n",
    "    def removemetadata(info):\n",
    "        del info[\"metadata\"]\n",
    "        \n",
    "    def saveinfo(info):\n",
    "        with open(info[\"metadata\"][\"filename\"], 'w') as f:\n",
    "            json.dump(info, f)\n",
    "            \n",
    "    \n",
    "        \n",
    "        \n",
    "    # Inicializa las carpetas si no existen\n",
    "    if not os.path.exists(savefolder):\n",
    "        os.makedirs(savefolder)\n",
    "    if not os.path.exists(savefolder+rawdata):\n",
    "        os.makedirs(savefolder+rawdata)\n",
    "    \n",
    "    "
   ]
  },
  {
   "cell_type": "code",
   "execution_count": 2,
   "metadata": {},
   "outputs": [
    {
     "name": "stdout",
     "output_type": "stream",
     "text": [
      "Home de Cenital descargado con exito.\n",
<<<<<<< HEAD
      "63868\n",
      "Nota https://www.cenital.com/2019/07/05/elecciones-fallo-el-primer-simulacro-del-sistema-de-conteo-rapido/63868 descargada con exito.\n"
=======
      "63866\n",
      "Nota https://www.cenital.com/2019/07/04/el-oficialismo-tildo-de-opereta-kirchnerista-a-la-movida-solidaria-de-juan-carr/63866 descargada con exito.\n"
>>>>>>> a0ddfcb06c6b70c960daacc85fdc29350d0ab7ba
     ]
    },
    {
     "data": {
      "text/plain": [
<<<<<<< HEAD
       "[<title>Elecciones: falló el primer simulacro del sistema de conteo rápido</title>]"
=======
       "[<title>El oficialismo tildó de \"opereta kirchnerista\" a la movida solidaria de Juan Carr</title>]"
>>>>>>> a0ddfcb06c6b70c960daacc85fdc29350d0ab7ba
      ]
     },
     "execution_count": 2,
     "metadata": {},
     "output_type": "execute_result"
    }
   ],
   "source": [
    "\"\"\"\n",
    "listadenotas = Cenital.Home.buscarnotas()\n",
    "for nota in list(listadenotas.values()):\n",
    "    print (nota[\"Titulo\"])\n",
    "\"\"\"\n",
    "noticia = Cenital.Noticia(list( Cenital.Home.buscarnotas().values())[1][\"Url\"])\n",
    "noticia.bpage.find_all(\"title\")"
   ]
  },
  {
   "cell_type": "code",
   "execution_count": 35,
   "metadata": {},
   "outputs": [
    {
     "data": {
      "text/plain": [
       "'La soga que une Dolores con Comodoro Py'"
      ]
     },
     "execution_count": 35,
     "metadata": {},
     "output_type": "execute_result"
    }
   ],
   "source": [
    "noticia.bpage.find_all(\"title\")[0].string"
   ]
  },
  {
   "cell_type": "code",
   "execution_count": 36,
   "metadata": {},
   "outputs": [
    {
     "name": "stdout",
     "output_type": "stream",
     "text": [
      "cucu\n",
      "{'metadata': {'timestampofsearch': 1560724008.685024, 'timeofsearch': '2019-06-16T19:26:48.685024', 'filename': './dataCenital/raw/notaid-63776.json'}, 'Titulo': 'La soga que une Dolores con Comodoro Py'}\n"
     ]
    }
   ],
   "source": [
    "print (noticia.generarinfo())\n",
    "\n"
   ]
  },
  {
   "cell_type": "code",
   "execution_count": 3,
   "metadata": {},
   "outputs": [
    {
     "ename": "NameError",
     "evalue": "name 'titulos' is not defined",
     "output_type": "error",
     "traceback": [
      "\u001b[1;31m---------------------------------------------------------------------------\u001b[0m",
      "\u001b[1;31mNameError\u001b[0m                                 Traceback (most recent call last)",
      "\u001b[1;32m<ipython-input-3-a942817bdc8c>\u001b[0m in \u001b[0;36m<module>\u001b[1;34m\u001b[0m\n\u001b[1;32m----> 1\u001b[1;33m \u001b[1;32mfor\u001b[0m \u001b[0mtitulo\u001b[0m \u001b[1;32min\u001b[0m \u001b[0mtitulos\u001b[0m\u001b[1;33m:\u001b[0m\u001b[1;33m\u001b[0m\u001b[1;33m\u001b[0m\u001b[0m\n\u001b[0m\u001b[0;32m      2\u001b[0m     \u001b[0mvinculo\u001b[0m \u001b[1;33m=\u001b[0m \u001b[0mtitulo\u001b[0m\u001b[1;33m.\u001b[0m\u001b[0mfind_all\u001b[0m\u001b[1;33m(\u001b[0m\u001b[1;34m\"a\"\u001b[0m\u001b[1;33m)\u001b[0m\u001b[1;33m\u001b[0m\u001b[1;33m\u001b[0m\u001b[0m\n\u001b[0;32m      3\u001b[0m     \u001b[1;32massert\u001b[0m \u001b[0mlen\u001b[0m \u001b[1;33m(\u001b[0m\u001b[0mvinculo\u001b[0m\u001b[1;33m)\u001b[0m \u001b[1;33m==\u001b[0m \u001b[1;36m1\u001b[0m\u001b[1;33m,\u001b[0m \u001b[1;34m\"error, se encontro mas de un titulo por nota\"\u001b[0m\u001b[1;33m\u001b[0m\u001b[1;33m\u001b[0m\u001b[0m\n\u001b[0;32m      4\u001b[0m     \u001b[0mprint\u001b[0m \u001b[1;33m(\u001b[0m\u001b[0mvinculo\u001b[0m\u001b[1;33m[\u001b[0m\u001b[1;36m0\u001b[0m\u001b[1;33m]\u001b[0m\u001b[1;33m.\u001b[0m\u001b[0mstring\u001b[0m\u001b[1;33m)\u001b[0m\u001b[1;33m\u001b[0m\u001b[1;33m\u001b[0m\u001b[0m\n\u001b[0;32m      5\u001b[0m     \u001b[0mprint\u001b[0m \u001b[1;33m(\u001b[0m\u001b[0mvinculo\u001b[0m\u001b[1;33m[\u001b[0m\u001b[1;36m0\u001b[0m\u001b[1;33m]\u001b[0m\u001b[1;33m[\u001b[0m\u001b[1;34m'href'\u001b[0m\u001b[1;33m]\u001b[0m\u001b[1;33m)\u001b[0m\u001b[1;33m\u001b[0m\u001b[1;33m\u001b[0m\u001b[0m\n",
      "\u001b[1;31mNameError\u001b[0m: name 'titulos' is not defined"
     ]
    }
   ],
   "source": [
    "for titulo in titulos:\n",
    "    vinculo = titulo.find_all(\"a\")\n",
    "    assert len (vinculo) == 1, \"error, se encontro mas de un titulo por nota\"\n",
    "    print (vinculo[0].string)\n",
    "    print (vinculo[0]['href'])"
   ]
  },
  {
   "cell_type": "code",
   "execution_count": 55,
   "metadata": {},
   "outputs": [
    {
     "data": {
      "text/plain": [
       "<h1 class=\"card-title titulo titulo-lg\"><span class=\"amarillo font-16 hidden\"> 15/06/2019 18:06:00</span><a href=\"2019/06/15/como-funciona-el-fmi-por-dentro-/63773\">¿Cómo funciona el FMI por dentro?</a></h1>"
      ]
     },
     "execution_count": 55,
     "metadata": {},
     "output_type": "execute_result"
    }
   ],
   "source": [
    "titulos[0]"
   ]
  }
 ],
 "metadata": {
  "kernelspec": {
   "display_name": "Python (Simian)",
   "language": "python",
   "name": "simian"
  },
  "language_info": {
   "codemirror_mode": {
    "name": "ipython",
    "version": 3
   },
   "file_extension": ".py",
   "mimetype": "text/x-python",
   "name": "python",
   "nbconvert_exporter": "python",
   "pygments_lexer": "ipython3",
   "version": "3.7.1"
  }
 },
 "nbformat": 4,
 "nbformat_minor": 2
}
