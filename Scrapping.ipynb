{
 "cells": [
  {
   "cell_type": "code",
   "execution_count": 4,
   "metadata": {},
   "outputs": [],
   "source": [
    "from abstract import Abstract, isabstract\n",
    "import requests\n",
    "from bs4 import BeautifulSoup\n",
    "import os\n",
    "\n",
    "class Portal(Abstract):\n",
    "    \n",
    "    name = isabstract\n",
    "    url = isabstract\n",
    "\n",
    "        \n",
    "    def runoninit(self):\n",
    "        self.initfolders()\n",
    "        self.createfolders()\n",
    "        self.gethome()\n",
    "\n",
    "    def initfolders(self):\n",
    "        self.savefolder = \"./data\" + self.name + \"/\"\n",
    "        self.saverawdatafolder = self.savefolder + \"raw/\"\n",
    "        \n",
    "    def gethome(self):\n",
    "        self.home = Home(self.url)\n",
    "        \n",
    "    def createfolders(self):\n",
    "        if not os.path.exists(self.savefolder):\n",
    "            os.makedirs(self.savefolder)\n",
    "        if not os.path.exists(self.saverawdatafolder):\n",
    "            os.makedirs(self.saverawdatafolder)\n",
    "\n",
    "class Home(Abstract):\n",
    "    \n",
    "    def runoninit(self,url):\n",
    "        self.page = requests.get(url)\n",
    "        if self.page.status_code != 200:\n",
    "            print (self.page.status_code)\n",
    "        else:\n",
    "            print (url + \" descargada con exito.\")\n",
    "        self.bpage = BeautifulSoup(self.page.content, 'html.parser')\n",
    "    \n",
    "    def pretty(self):\n",
    "        print(self.bpage.prettify())\n",
    "        \n"
   ]
  },
  {
   "cell_type": "code",
   "execution_count": 2,
   "metadata": {},
   "outputs": [],
   "source": [
    "class Grabable(Abstract):\n",
    "    \n",
    "    tipo = isabstract\n",
    "    \n",
    "    def runoninit():\n",
    "        pass\n",
    "    \n",
    "    def temp(self,portal):\n",
    "        self.portal = portal\n",
    "        self.metadata = {}\n",
    "        self.extradata = {}\n",
    "        self.data = {}\n",
    "        \n",
    "    def save(self):\n",
    "        pass\n",
    "    \n",
    "    def load(self):\n",
    "        pass\n",
    "    \n",
    "class InfoHome(Grabable):\n",
    "    \n",
    "    tipo = \"Home\""
   ]
  },
  {
   "cell_type": "code",
   "execution_count": 3,
   "metadata": {},
   "outputs": [],
   "source": [
    "cenital = Cenital()"
   ]
  },
  {
   "cell_type": "code",
   "execution_count": 1,
   "metadata": {},
   "outputs": [
    {
     "name": "stdout",
     "output_type": "stream",
     "text": [
      "Recuerde que para que esta clase funcione debe incluir self.chequeosdeimplementacion() en caso de sobreescrbir el __init__\n"
     ]
    }
   ],
   "source": []
  }
 ],
 "metadata": {
  "kernelspec": {
   "display_name": "Python (Simian)",
   "language": "python",
   "name": "simian"
  },
  "language_info": {
   "codemirror_mode": {
    "name": "ipython",
    "version": 3
   },
   "file_extension": ".py",
   "mimetype": "text/x-python",
   "name": "python",
   "nbconvert_exporter": "python",
   "pygments_lexer": "ipython3",
   "version": "3.7.1"
  }
 },
 "nbformat": 4,
 "nbformat_minor": 2
}
