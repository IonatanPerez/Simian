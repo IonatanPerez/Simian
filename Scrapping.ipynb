{
 "cells": [
  {
   "cell_type": "code",
   "execution_count": 1,
   "metadata": {},
   "outputs": [
    {
     "name": "stdout",
     "output_type": "stream",
     "text": [
      "Recuerde que para que esta clase funcione debe incluir self.chequeosdeimplementacion() en caso de sobreescrbir el __init__\n"
     ]
    }
   ],
   "source": [
    "from abstract import Abstract, isabstract\n",
    "import requests\n",
    "from bs4 import BeautifulSoup\n",
    "import os\n",
    "\n",
    "class Portal(Abstract):\n",
    "    \n",
    "    name = isabstract\n",
    "    url = isabstract\n",
    "    \n",
    "    def __init__(self):\n",
    "        self.chequeosdeimplementacion()\n",
    "        self.runoninit()\n",
    "\n",
    "    def initfolders(self):\n",
    "        self.savefolder = \"./data\" + self.name + \"/\"\n",
    "        self.saverawdatafolder = self.savefolder + \"raw/\"\n",
    "        \n",
    "    def gethome(self):\n",
    "        self.home = Home(self.url)\n",
    "        \n",
    "    def runoninit(self):\n",
    "        self.initfolders()\n",
    "        self.createfolders()\n",
    "        \n",
    "    def createfolders(self):\n",
    "        if not os.path.exists(self.savefolder):\n",
    "            os.makedirs(self.savefolder)\n",
    "        if not os.path.exists(self.saverawdatafolder):\n",
    "            os.makedirs(self.saverawdatafolder)\n",
    "    \n",
    "class Cenital(Portal):\n",
    "    \n",
    "    name = \"CenitalTemp\"\n",
    "    url = \"https://www.cenital.com/\"\n",
    "    \n",
    "        \n",
    "class Home(Abstract):\n",
    "    \n",
    "    def __init__(self,url):\n",
    "        self.chequeosdeimplementacion()\n",
    "        self.page = requests.get(url)\n",
    "        if self.page.status_code != 200:\n",
    "            print (self.page.status_code)\n",
    "        else:\n",
    "            print (url + \" descargada con exito.\")\n",
    "        self.bpage = BeautifulSoup(self.page.content, 'html.parser')\n",
    "    \n",
    "    def pretty(self):\n",
    "        print(self.bpage.prettify())\n",
    "        \n",
    "class Infograbable(Abstract):\n",
    "    \n",
    "    tipo = isabstract\n",
    "    \n",
    "    def temp(self,portal):\n",
    "        self.chequeosdeimplementacion()\n",
    "        self.portal = portal\n",
    "        self.metadata = {}\n",
    "        self.extradata = {}\n",
    "        self.data = {}\n",
    "        \n",
    "    def save(self):\n",
    "        pass\n",
    "    \n",
    "    def load(self):\n",
    "        pass\n",
    "    \n",
    "class InfoHome(Infograbable):\n",
    "    \n",
    "    tipo = \"Home\""
   ]
  },
  {
   "cell_type": "code",
   "execution_count": 4,
   "metadata": {},
   "outputs": [
    {
     "ename": "TypeError",
     "evalue": "__init__() takes 1 positional argument but 2 were given",
     "output_type": "error",
     "traceback": [
      "\u001b[0;31m---------------------------------------------------------------------------\u001b[0m",
      "\u001b[0;31mTypeError\u001b[0m                                 Traceback (most recent call last)",
      "\u001b[0;32m<ipython-input-4-ef4aa2dd0a8e>\u001b[0m in \u001b[0;36m<module>\u001b[0;34m\u001b[0m\n\u001b[1;32m      1\u001b[0m \u001b[0mcenital\u001b[0m \u001b[0;34m=\u001b[0m \u001b[0mCenital\u001b[0m\u001b[0;34m(\u001b[0m\u001b[0;34m)\u001b[0m\u001b[0;34m\u001b[0m\u001b[0;34m\u001b[0m\u001b[0m\n\u001b[1;32m      2\u001b[0m \u001b[0;31m#cenital.gethome()\u001b[0m\u001b[0;34m\u001b[0m\u001b[0;34m\u001b[0m\u001b[0;34m\u001b[0m\u001b[0m\n\u001b[0;32m----> 3\u001b[0;31m \u001b[0minfoportal\u001b[0m \u001b[0;34m=\u001b[0m \u001b[0mInfograbable\u001b[0m\u001b[0;34m(\u001b[0m\u001b[0mcenital\u001b[0m\u001b[0;34m)\u001b[0m\u001b[0;34m\u001b[0m\u001b[0;34m\u001b[0m\u001b[0m\n\u001b[0m",
      "\u001b[0;31mTypeError\u001b[0m: __init__() takes 1 positional argument but 2 were given"
     ]
    }
   ],
   "source": [
    "cenital = Cenital()\n",
    "#cenital.gethome()\n",
    "infoportal = Infograbable(cenital)"
   ]
  },
  {
   "cell_type": "code",
   "execution_count": 1,
   "metadata": {},
   "outputs": [
    {
     "name": "stdout",
     "output_type": "stream",
     "text": [
      "Recuerde que para que esta clase funcione debe incluir self.chequeosdeimplementacion() en caso de sobreescrbir el __init__\n"
     ]
    }
   ],
   "source": [
    "from abstract import Abstract, isabstract\n",
    "class Prueba(Abstract):\n",
    "    pass\n"
   ]
  },
  {
   "cell_type": "code",
   "execution_count": 4,
   "metadata": {},
   "outputs": [
    {
     "name": "stdout",
     "output_type": "stream",
     "text": [
      "hola\n",
      "True\n",
      "True\n"
     ]
    }
   ],
   "source": [
    "prueba2 = Prueba(\"hola\") \n",
    "    \n"
   ]
  },
  {
   "cell_type": "code",
   "execution_count": 11,
   "metadata": {},
   "outputs": [],
   "source": [
    "class ClasedePrueba():\n",
    "    def funcion(*args):\n",
    "        if args:\n",
    "            print (args)\n",
    "        else:\n",
    "            print (\"No hay argumentos\")"
   ]
  },
  {
   "cell_type": "code",
   "execution_count": 14,
   "metadata": {},
   "outputs": [
    {
     "name": "stdout",
     "output_type": "stream",
     "text": [
      "(<__main__.ClasedePrueba object at 0x0000024DA90573C8>,)\n",
      "he\n"
     ]
    }
   ],
   "source": [
    "pru = ClasedePrueba()\n",
    "if pru.funcion()==None:\n",
    "    print (\"he\")"
   ]
  }
 ],
 "metadata": {
  "kernelspec": {
   "display_name": "Python (Simian)",
   "language": "python",
   "name": "simian"
  },
  "language_info": {
   "codemirror_mode": {
    "name": "ipython",
    "version": 3
   },
   "file_extension": ".py",
   "mimetype": "text/x-python",
   "name": "python",
   "nbconvert_exporter": "python",
   "pygments_lexer": "ipython3",
   "version": "3.7.3"
  }
 },
 "nbformat": 4,
 "nbformat_minor": 2
}
