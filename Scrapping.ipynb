{
 "cells": [
  {
   "cell_type": "code",
   "execution_count": 2,
   "metadata": {},
   "outputs": [],
   "source": [
    "import requests\n",
    "from bs4 import BeautifulSoup\n",
    "import os\n",
    "\n",
    "class Portal():\n",
    "    \n",
    "    def __init__(self):\n",
    "        self.initfolders()\n",
    "        self.createfolders()\n",
    "        self.gethome()\n",
    "\n",
    "    def initfolders(self):\n",
    "        self.savefolder = \"./data\" + self.name + \"/\"\n",
    "        self.saverawdatafolder = self.savefolder + \"raw/\"\n",
    "        \n",
    "    def gethome(self):\n",
    "        self.home = Home(self.url)\n",
    "        \n",
    "    def createfolders(self):\n",
    "        if not os.path.exists(self.savefolder):\n",
    "            os.makedirs(self.savefolder)\n",
    "        if not os.path.exists(self.saverawdatafolder):\n",
    "            os.makedirs(self.saverawdatafolder)\n",
    "\n",
    "class Cenital(Portal):\n",
    "    \n",
    "    name = \"Cenital\"\n",
    "    url = \"https://www.cenital.com/\"\n",
    "            \n",
    "            \n",
    "class Home():\n",
    "    \n",
    "    def __init__(self,url):\n",
    "        self.page = requests.get(url)\n",
    "        if self.page.status_code != 200:\n",
    "            print (self.page.status_code)\n",
    "        else:\n",
    "            print (url + \" descargada con exito.\")\n",
    "        self.bpage = BeautifulSoup(self.page.content, 'html.parser')\n",
    "    \n",
    "    def pretty(self):\n",
    "        print(self.bpage.prettify())\n",
    "        \n"
   ]
  },
  {
   "cell_type": "code",
   "execution_count": 30,
   "metadata": {},
   "outputs": [],
   "source": [
    "import datetime\n",
    "\n",
    "class Grabable():\n",
    "    \n",
    "    def __init__(self,portal,id=None,descripcion=None):\n",
    "                \n",
    "        self.portal = portal\n",
    "        self.metadata = {}\n",
    "        self.metadata[\"id\"] =  id\n",
    "        self.metadata[\"descripcion\"] = descripcion\n",
    "        self.metadata[\"timestamp\"] = datetime.datetime.now().timestamp()\n",
    "        self.metadata[\"time\"] = datetime.datetime.fromtimestamp(self.metadata[\"timestamp\"]).isoformat()\n",
    "        self.extradata = {}\n",
    "        self.data = {}\n",
    "        \n",
    "    def save(self,fecha=False):\n",
    "        # El nombre esta formado con el siguiente criterio:\n",
    "        # carpetadelportal + id [si hay] + \"-\" descripcion [si hay] + \"-\" + fecha [opcional] + \".json\"\n",
    "        self.metadata[\"filename\"] = self.portal.saverawdatafolder\n",
    "        fechalinda = datetime.datetime.fromtimestamp(self.metadata[\"timestamp\"]).strftime(\"%Y_%m_%d_%H_%M\") + \"-\"\n",
    "        hasdate = False\n",
    "        if self.metadata[\"id\"]:\n",
    "            self.metadata[\"filename\"] = self.metadata[\"filename\"] + str(self.metadata[\"id\"]) + \"-\"\n",
    "        else: \n",
    "            self.metadata[\"filename\"] = self.metadata[\"filename\"] + fechalinda\n",
    "            hasdate = True\n",
    "        if self.metadata[\"descripcion\"]:\n",
    "            self.metadata[\"filename\"] = self.metadata[\"filename\"] + str(self.metadata[\"descripcion\"]) + \"-\"\n",
    "        if fecha and not hasdate:\n",
    "            self.metadata[\"filename\"] = self.metadata[\"filename\"] + fechalinda\n",
    "        self.metadata[\"filename\"] = self.metadata[\"filename\"][:-1] + \".json\"\n",
    "        print (self.metadata[\"filename\"])\n",
    "        \n",
    "    def load(self):\n",
    "        pass"
   ]
  },
  {
   "cell_type": "code",
   "execution_count": 33,
   "metadata": {},
   "outputs": [
    {
     "name": "stdout",
     "output_type": "stream",
     "text": [
      "https://www.cenital.com/ descargada con exito.\n",
      "./dataCenital/raw/True-Prueba-2019_07_02_08_54.json\n"
     ]
    }
   ],
   "source": [
    "cenital = Cenital()\n",
    "prueba = Grabable(cenital,id=True,descripcion=\"Prueba\")\n",
    "prueba.save(fecha=True)"
   ]
  },
  {
   "cell_type": "code",
   "execution_count": 1,
   "metadata": {},
   "outputs": [
    {
     "name": "stdout",
     "output_type": "stream",
     "text": [
      "Recuerde que para que esta clase funcione debe incluir self.chequeosdeimplementacion() en caso de sobreescrbir el __init__\n"
     ]
    }
   ],
   "source": []
  }
 ],
 "metadata": {
  "kernelspec": {
   "display_name": "Python (Simian)",
   "language": "python",
   "name": "simian"
  },
  "language_info": {
   "codemirror_mode": {
    "name": "ipython",
    "version": 3
   },
   "file_extension": ".py",
   "mimetype": "text/x-python",
   "name": "python",
   "nbconvert_exporter": "python",
   "pygments_lexer": "ipython3",
   "version": "3.7.1"
  }
 },
 "nbformat": 4,
 "nbformat_minor": 2
}
