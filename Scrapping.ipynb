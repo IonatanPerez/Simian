{
 "cells": [
  {
   "cell_type": "code",
   "execution_count": 66,
   "metadata": {},
   "outputs": [],
   "source": [
    "import IPython.core.oinspect as insp\n",
    "\n",
    "class Abstract:\n",
    "   \n",
    "    myname = \"Implementar\"\n",
    "    \n",
    "    def __init__ (self):\n",
    "        self.chequeosdeimplementacion()\n",
    "        \n",
    "    def chequeosdeimplementacion(self):\n",
    "        metodos =[method for method in dir(clase) if callable(getattr(clase, method))]\n",
    "        metodos = [metodo for metodo in metodos if not metodo[0:2]==\"__\"]\n",
    "        propiedades = [method for method in dir(clase) if not callable(getattr(clase, method))]\n",
    "        propiedades = [propiedad for propiedad in propiedades if not propiedad[0:2]==\"__\"]\n",
    "        for metodo in metodos:\n",
    "            linea = insp.getsource(getattr(self, metodo)).split(\"\\n\")[1].lstrip()\n",
    "            if linea == \"return \\\"Implementar\\\"\":\n",
    "                print (\"Warning: En \" +type(self).__name__+\" no se implemento el metodo \" + metodo)\n",
    "        for propiedad in propiedades:\n",
    "            if getattr(self, propiedad) == \"Implementar\": print (\"Warning: En \" +type(self).__name__+\" no se implemento la propiedad \" + propiedad)\n",
    "             \n",
    "    def tareaporimplementar(self):\n",
    "        return \"Implementar\"\n",
    "    \n",
    "class MiPortal(Abtract):\n",
    "    \n",
    "    myname = \"myname\"\n",
    "    \n",
    "    def tareaporimplementar(self):\n",
    "        pass"
   ]
  },
  {
   "cell_type": "code",
   "execution_count": 9,
   "metadata": {},
   "outputs": [
    {
     "ename": "AttributeError",
     "evalue": "module 'abstract' has no attribute 'Portal'",
     "output_type": "error",
     "traceback": [
      "\u001b[1;31m---------------------------------------------------------------------------\u001b[0m",
      "\u001b[1;31mAttributeError\u001b[0m                            Traceback (most recent call last)",
      "\u001b[1;32m<ipython-input-9-7fbffa755678>\u001b[0m in \u001b[0;36m<module>\u001b[1;34m\u001b[0m\n\u001b[0;32m      1\u001b[0m \u001b[1;32mimport\u001b[0m \u001b[0mabstract\u001b[0m\u001b[1;33m\u001b[0m\u001b[1;33m\u001b[0m\u001b[0m\n\u001b[1;32m----> 2\u001b[1;33m \u001b[0mclase\u001b[0m \u001b[1;33m=\u001b[0m \u001b[0mabstract\u001b[0m\u001b[1;33m.\u001b[0m\u001b[0mPortal\u001b[0m\u001b[1;33m(\u001b[0m\u001b[1;33m)\u001b[0m\u001b[1;33m\u001b[0m\u001b[1;33m\u001b[0m\u001b[0m\n\u001b[0m\u001b[0;32m      3\u001b[0m \u001b[0mclase2\u001b[0m \u001b[1;33m=\u001b[0m \u001b[0mMiPortal\u001b[0m\u001b[1;33m(\u001b[0m\u001b[1;33m)\u001b[0m\u001b[1;33m\u001b[0m\u001b[1;33m\u001b[0m\u001b[0m\n",
      "\u001b[1;31mAttributeError\u001b[0m: module 'abstract' has no attribute 'Portal'"
     ]
    }
   ],
   "source": [
    "import abstract\n",
    "clase = abstract.Portal()\n",
    "clase2 = MiPortal()"
   ]
  },
  {
   "cell_type": "code",
   "execution_count": 11,
   "metadata": {},
   "outputs": [
    {
     "ename": "AttributeError",
     "evalue": "module 'abstract' has no attribute 'foo'",
     "output_type": "error",
     "traceback": [
      "\u001b[1;31m---------------------------------------------------------------------------\u001b[0m",
      "\u001b[1;31mAttributeError\u001b[0m                            Traceback (most recent call last)",
      "\u001b[1;32m<ipython-input-11-6ee1103a0668>\u001b[0m in \u001b[0;36m<module>\u001b[1;34m\u001b[0m\n\u001b[0;32m      1\u001b[0m \u001b[1;32mimport\u001b[0m \u001b[0mabstract\u001b[0m\u001b[1;33m\u001b[0m\u001b[1;33m\u001b[0m\u001b[0m\n\u001b[0;32m      2\u001b[0m \u001b[1;33m\u001b[0m\u001b[0m\n\u001b[1;32m----> 3\u001b[1;33m \u001b[0mabstract\u001b[0m\u001b[1;33m.\u001b[0m\u001b[0mfoo\u001b[0m\u001b[1;33m(\u001b[0m\u001b[1;33m)\u001b[0m\u001b[1;33m\u001b[0m\u001b[1;33m\u001b[0m\u001b[0m\n\u001b[0m",
      "\u001b[1;31mAttributeError\u001b[0m: module 'abstract' has no attribute 'foo'"
     ]
    }
   ],
   "source": [
    "import abstract\n",
    "\n",
    "abstract.foo()"
   ]
  }
 ],
 "metadata": {
  "kernelspec": {
   "display_name": "Python (Simian)",
   "language": "python",
   "name": "simian"
  },
  "language_info": {
   "codemirror_mode": {
    "name": "ipython",
    "version": 3
   },
   "file_extension": ".py",
   "mimetype": "text/x-python",
   "name": "python",
   "nbconvert_exporter": "python",
   "pygments_lexer": "ipython3",
   "version": "3.7.3"
  }
 },
 "nbformat": 4,
 "nbformat_minor": 2
}
