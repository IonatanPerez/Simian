{
 "cells": [
  {
   "cell_type": "code",
   "execution_count": 12,
   "metadata": {},
   "outputs": [],
   "source": [
    "from abstract import Abstract, isabstract\n",
    "import requests\n",
    "from bs4 import BeautifulSoup\n",
    "\n",
    "\n",
    "\n",
    "class Portal(Abstract):\n",
    "    \n",
    "    name = isabstract\n",
    "    url = isabstract\n",
    "    \n",
    "    def initfolders(self):\n",
    "        self.savefolder = \"./data\" + self.name + \"/\"\n",
    "        self.saverawdatafolder = self.savefolder + \"raw/\"\n",
    "\n",
    "    def gethome(self):\n",
    "        self.home = Home(self.url)\n",
    "        \n",
    "        \n",
    "class Cenital(Portal):\n",
    "    \n",
    "    name = \"Cenital\"\n",
    "    url = \"https://www.cenital.com/\"\n",
    "    \n",
    "    def __init__(self):\n",
    "        self.chequeosdeimplementacion()\n",
    "        self.initfolders()\n",
    "        \n",
    "class Home(Abstract):\n",
    "    \n",
    "    def __init__(self,url):\n",
    "        self.page = requests.get(url)\n",
    "        if self.page.status_code != 200:\n",
    "            print (self.page.status_code)\n",
    "        else:\n",
    "            print (url + \" descargada con exito.\")\n",
    "        self.bpage = BeautifulSoup(self.page.content, 'html.parser')\n",
    "    \n",
    "    def pretty(self):\n",
    "        print(self.bpage.prettify())\n",
    "        \n",
    "class Infograbable(Abstract):\n",
    "    \n",
    "    tipo = isabstract\n",
    "    \n",
    "    def __init__(self,portal):\n",
    "        self.chequeosdeimplementacion()\n",
    "        self.portal = portal\n",
    "        self.metadata = {}\n",
    "        self.extradata = {}\n",
    "        self.data = {}\n",
    "        self.iniciarseguntipo()\n",
    "        \n",
    "    def save(self):\n",
    "        pass\n",
    "    \n",
    "    def load(self):\n",
    "        pass\n",
    "    \n",
    "    def iniciarseguntipo(self):\n",
    "        return isabstract\n",
    "\n",
    "class InfoHome(Infograbable):\n",
    "    \n",
    "    tipo = \"Home\""
   ]
  },
  {
   "cell_type": "code",
   "execution_count": 13,
   "metadata": {},
   "outputs": [
    {
     "name": "stdout",
     "output_type": "stream",
     "text": [
      "https://www.cenital.com/ descargada con exito.\n",
      "Warning: En Infograbable no se implemento el metodo iniciarseguntipo\n",
      "Warning: En Infograbable no se implemento la propiedad tipo\n"
     ]
    }
   ],
   "source": [
    "cenital = Cenital()\n",
    "cenital.gethome()\n",
    "infoportal = Infograbable(cenital)"
   ]
  }
 ],
 "metadata": {
  "kernelspec": {
   "display_name": "Python (Simian)",
   "language": "python",
   "name": "simian"
  },
  "language_info": {
   "codemirror_mode": {
    "name": "ipython",
    "version": 3
   },
   "file_extension": ".py",
   "mimetype": "text/x-python",
   "name": "python",
   "nbconvert_exporter": "python",
   "pygments_lexer": "ipython3",
   "version": "3.7.3"
  }
 },
 "nbformat": 4,
 "nbformat_minor": 2
}
