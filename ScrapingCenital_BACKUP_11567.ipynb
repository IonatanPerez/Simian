{
 "cells": [
  {
   "cell_type": "code",
   "execution_count": 1,
   "metadata": {},
   "outputs": [],
   "source": [
    "import requests\n",
    "from bs4 import BeautifulSoup\n",
    "import time\n",
    "import datetime\n",
    "import json\n",
    "import os\n",
    "\n",
    "class Cenital:\n",
    "    \n",
    "    myname = \"Cenital\"\n",
    "    savefolder = \"./dataCenital/\"\n",
    "    rawdata = \"raw/\"\n",
    "    \n",
    "    class Home:\n",
    "    \n",
    "        url = \"https://www.cenital.com/\"\n",
    "        \n",
    "        def buscarnotas():\n",
    "            \n",
    "            cenital = Cenital()\n",
    "            cenital.gethome()\n",
    "            listadenotas = cenital.home.getlistofnotes()\n",
    "            Cenital.saveinfo(listadenotas)\n",
    "            Cenital.removemetadata(listadenotas)\n",
    "            return listadenotas\n",
    "\n",
    "        def __init__ (self):\n",
    "            self.page = requests.get(self.url)\n",
    "            if self.page.status_code != 200:\n",
    "                print (self.page.status_code)\n",
    "            else:\n",
    "                print (\"Home de \" + Cenital.myname + \" descargado con exito.\")\n",
    "            self.bpage = BeautifulSoup(self.page.content, 'html.parser')\n",
    "\n",
    "        def printpretty(self):\n",
    "            print(self.bpage.prettify())\n",
    "            \n",
    "        def getlistofnotes(self):\n",
    "            info = Cenital.generateinfo(\"-notasHome\")\n",
    "            # Buscamos con el class card-title todas las notas porque es lo unico que idententifica a todas las notas del home\n",
    "            titulos = self.bpage.find_all(attrs={\"class\":\"card-title\"})\n",
    "            for titulo in titulos:\n",
    "                vinculo = titulo.find_all(\"a\")\n",
    "                assert len (vinculo) == 1, \"error, se encontro mas de un titulo por nota\"\n",
    "                info [vinculo[0]['href']] = {}\n",
    "                info [vinculo[0]['href']][\"Url\"] = Cenital.Home.url + vinculo[0]['href']\n",
    "                info [vinculo[0]['href']][\"Titulo\"] = vinculo[0].string\n",
    "            return info\n",
    "            \n",
    "    class Noticia:\n",
    "        \n",
    "        def __init__ (self,url):\n",
    "            self.url = url\n",
    "            self.id = self.url.split(\"/\")[-1]\n",
    "            print (self.id)\n",
    "            self.page = requests.get(self.url)\n",
    "            if self.page.status_code != 200:\n",
    "                print (self.page.status_code)\n",
    "            else:\n",
    "                print (\"Nota \" + self.url + \" descargada con exito.\")\n",
    "            self.bpage = BeautifulSoup(self.page.content, 'html.parser')\n",
    "\n",
    "        def printpretty(self):\n",
    "            print(self.bpage.prettify())\n",
    "        \n",
    "        def generarinfo(self):\n",
    "            self.info = Cenital.generateinfo(\"notaid-\"+self.id,fecha=False)\n",
    "            self.datosprevios = False\n",
    "            # Aca hay que recopilar la info como si no hubiera datos previos y despues comparar en caso de que haya\n",
    "            self.info[\"Titulo\"] = self.bpage.find_all(\"title\")[0].string\n",
    "            self.buscardatosprevios()\n",
    "            Cenital.saveinfo(self.info)\n",
    "            return self.info\n",
    "            \n",
    "        def buscardatosprevios(self):\n",
    "            if os.path.exists(self.info[\"metadata\"][\"filename\"]):\n",
    "                self.datosprevios = True\n",
    "                with open(self.info[\"metadata\"][\"filename\"]) as file:  \n",
    "                    self.infoprevia = json.load(file)\n",
    "                \n",
    "                \n",
    "    def gethome(self):\n",
    "        self.home = self.Home()\n",
    "        \n",
    "    def generateinfo (name,fecha=True):\n",
    "        info = {}\n",
    "        info[\"metadata\"] = {}\n",
    "        info[\"metadata\"][\"timestampofsearch\"] = datetime.datetime.now().timestamp()\n",
    "        info[\"metadata\"][\"timeofsearch\"] = datetime.datetime.fromtimestamp(info[\"metadata\"][\"timestampofsearch\"]).isoformat()\n",
    "        if fecha:\n",
    "            info[\"metadata\"][\"filename\"] = Cenital.savefolder + Cenital.rawdata + datetime.datetime.fromtimestamp(info[\"metadata\"][\"timestampofsearch\"]).strftime(\"%Y-%m-%d-%H-%M\") + name + \".json\"\n",
    "        else:\n",
    "            info[\"metadata\"][\"filename\"] = Cenital.savefolder + Cenital.rawdata + name + \".json\"\n",
    "        return info\n",
    "        \n",
    "    def removemetadata(info):\n",
    "        del info[\"metadata\"]\n",
    "        \n",
    "    def saveinfo(info):\n",
    "        with open(info[\"metadata\"][\"filename\"], 'w') as f:\n",
    "            json.dump(info, f)\n",
    "            \n",
    "    \n",
    "        \n",
    "        \n",
    "    # Inicializa las carpetas si no existen\n",
    "    if not os.path.exists(savefolder):\n",
    "        os.makedirs(savefolder)\n",
    "    if not os.path.exists(savefolder+rawdata):\n",
    "        os.makedirs(savefolder+rawdata)\n",
    "    \n",
    "    "
   ]
  },
  {
   "cell_type": "code",
<<<<<<< HEAD
   "execution_count": 3,
   "metadata": {},
   "outputs": [
    {
     "name": "stdout",
     "output_type": "stream",
     "text": [
      "Home de Cenital descargado con exito.\n",
      "{'2019/06/21/iran-y-estados-unidos-caminar-al-borde-del-abismo/63805': {'Url': 'https://www.cenital.com/2019/06/21/iran-y-estados-unidos-caminar-al-borde-del-abismo/63805', 'Titulo': 'Irán y Estados Unidos: caminar al borde del abismo'}, '2019/06/20/que-significa-que-los-gobernadores-vayan-con-lista-corta-/63795': {'Url': 'https://www.cenital.com/2019/06/20/que-significa-que-los-gobernadores-vayan-con-lista-corta-/63795', 'Titulo': ' ¿Qué significa que los gobernadores vayan con \"lista corta\"?'}, '2019/06/21/el-oficialismo-definio-sus-listas-para-la-ciudad-y-provincia-de-buenos-aires/63802': {'Url': 'https://www.cenital.com/2019/06/21/el-oficialismo-definio-sus-listas-para-la-ciudad-y-provincia-de-buenos-aires/63802', 'Titulo': ' El oficialismo definió sus listas para la Ciudad y Provincia de Buenos Aires'}, '2019/06/21/un-año-con-el-fmi/63800': {'Url': 'https://www.cenital.com/2019/06/21/un-año-con-el-fmi/63800', 'Titulo': ' Un año con el FMI'}, '2019/06/21/el-peronismo-rechaza-el-pedido-de-suspension-de-las-paso-/63801': {'Url': 'https://www.cenital.com/2019/06/21/el-peronismo-rechaza-el-pedido-de-suspension-de-las-paso-/63801', 'Titulo': ' El peronismo rechaza el pedido de suspensión de las PASO'}, '2019/06/19/el-futuro-del-bloque-del-pj-en-el-senado/63787': {'Url': 'https://www.cenital.com/2019/06/19/el-futuro-del-bloque-del-pj-en-el-senado/63787', 'Titulo': ' El futuro del bloque del PJ en el Senado'}, '2019/06/21/en-juntos-por-el-cambio-ya-decidieron-los-nombres-de-las-listas-provinciales/63803': {'Url': 'https://www.cenital.com/2019/06/21/en-juntos-por-el-cambio-ya-decidieron-los-nombres-de-las-listas-provinciales/63803', 'Titulo': ' En Juntos por el Cambio ya decidieron los nombres de las listas provinciales'}, '2019/06/18/continua-la-sangria-de-cambiemos-en-las-elecciones-provinciales/63781': {'Url': 'https://www.cenital.com/2019/06/18/continua-la-sangria-de-cambiemos-en-las-elecciones-provinciales/63781', 'Titulo': ' Continúa la sangría de Cambiemos en las elecciones provinciales'}, '2019/06/19/que-hay-detras-de-los-numeros-de-(des)empleo-/63792': {'Url': 'https://www.cenital.com/2019/06/19/que-hay-detras-de-los-numeros-de-(des)empleo-/63792', 'Titulo': ' ¿Qué hay detrás de los números de (des)empleo?'}, '2019/06/20/cronica-de-una-maraton-cambiaria/63797': {'Url': 'https://www.cenital.com/2019/06/20/cronica-de-una-maraton-cambiaria/63797', 'Titulo': ' Crónica de una maratón cambiaria'}, '2019/06/20/detener-la-caida--el-mejor-escenario-posible-para-el-futuro-de-la-economia-argentina/63793': {'Url': 'https://www.cenital.com/2019/06/20/detener-la-caida--el-mejor-escenario-posible-para-el-futuro-de-la-economia-argentina/63793', 'Titulo': 'Detener la caída, el mejor escenario posible para el futuro de la economía argentina'}, '2019/06/14/inflacion-de-ricos--inflacion-de-pobres/63770': {'Url': 'https://www.cenital.com/2019/06/14/inflacion-de-ricos--inflacion-de-pobres/63770', 'Titulo': 'Inflación de ricos, inflación de pobres'}, '2019/06/16/pauta-fantasma-los-casos-se-multiplican-en-todo-el-pais-y-ya-hay-mas-de-$100-millones-bajo-sospecha/63774': {'Url': 'https://www.cenital.com/2019/06/16/pauta-fantasma-los-casos-se-multiplican-en-todo-el-pais-y-ya-hay-mas-de-$100-millones-bajo-sospecha/63774', 'Titulo': 'Pauta fantasma: los casos se multiplican en todo el país y ya hay más de $100 millones bajo sospecha'}, '2019/06/16/la-soga-que-une-dolores-con-comodoro-py/63776': {'Url': 'https://www.cenital.com/2019/06/16/la-soga-que-une-dolores-con-comodoro-py/63776', 'Titulo': 'La soga que une Dolores con Comodoro Py'}, '2019/06/20/tres-definiciones-del-ceo-de-mercado-libre/63794': {'Url': 'https://www.cenital.com/2019/06/20/tres-definiciones-del-ceo-de-mercado-libre/63794', 'Titulo': ' Tres definiciones del CEO de Mercado Libre'}, '2019/06/20/marcos-galperin-tiene-razon/63799': {'Url': 'https://www.cenital.com/2019/06/20/marcos-galperin-tiene-razon/63799', 'Titulo': ' Marcos Galperín tiene razón'}, '2019/06/14/que-dicen-los-balances-de-mercado-libre/63766': {'Url': 'https://www.cenital.com/2019/06/14/que-dicen-los-balances-de-mercado-libre/63766', 'Titulo': ' Qué dicen los balances de Mercado Libre'}, '2019/06/16/brasil-la-democracia-y-sus-sombras/63775': {'Url': 'https://www.cenital.com/2019/06/16/brasil-la-democracia-y-sus-sombras/63775', 'Titulo': ' Brasil: la democracia y sus sombras'}, '2019/06/18/hong-kong-problemas-de-convivencia/63782': {'Url': 'https://www.cenital.com/2019/06/18/hong-kong-problemas-de-convivencia/63782', 'Titulo': ' Hong Kong: problemas de convivencia'}, '2019/06/07/5g-y-el-regreso-de-la-politica-bipolar/63698': {'Url': 'https://www.cenital.com/2019/06/07/5g-y-el-regreso-de-la-politica-bipolar/63698', 'Titulo': ' 5G y el regreso de la política bipolar'}, '2019/06/15/como-funciona-el-fmi-por-dentro-/63773': {'Url': 'https://www.cenital.com/2019/06/15/como-funciona-el-fmi-por-dentro-/63773', 'Titulo': ' ¿Cómo funciona el FMI por dentro?'}, '2019/06/18/primaveras-arabes-cortar-todas-las-flores/63784': {'Url': 'https://www.cenital.com/2019/06/18/primaveras-arabes-cortar-todas-las-flores/63784', 'Titulo': ' Primaveras árabes: cortar todas las flores'}, '2019/06/15/focus-hablemos-de-las-proximas-elecciones/63772': {'Url': 'https://www.cenital.com/2019/06/15/focus-hablemos-de-las-proximas-elecciones/63772', 'Titulo': ' Focus: hablemos de las próximas elecciones'}}\n"
     ]
    }
   ],
   "source": [
    "listadenotas = Cenital.Home.buscarnotas()\n",
    "print (listadenotas)"
   ]
  },
  {
   "cell_type": "code",
   "execution_count": 34,
=======
   "execution_count": 2,
>>>>>>> 210d012836526214334b56c6cfcb7666ca10157e
   "metadata": {},
   "outputs": [
    {
     "name": "stdout",
     "output_type": "stream",
     "text": [
      "Home de Cenital descargado con exito.\n",
      "63799\n",
      "Nota https://www.cenital.com/2019/06/20/marcos-galperin-tiene-razon/63799 descargada con exito.\n"
     ]
    },
    {
     "data": {
      "text/plain": [
       "[<title>Marcos Galperín tiene razón</title>]"
      ]
     },
     "execution_count": 2,
     "metadata": {},
     "output_type": "execute_result"
    }
   ],
   "source": [
    "\"\"\"\n",
    "listadenotas = Cenital.Home.buscarnotas()\n",
    "for nota in list(listadenotas.values()):\n",
    "    print (nota[\"Titulo\"])\n",
    "\"\"\"\n",
    "noticia = Cenital.Noticia(list( Cenital.Home.buscarnotas().values())[1][\"Url\"])\n",
    "noticia.bpage.find_all(\"title\")"
   ]
  },
  {
   "cell_type": "code",
   "execution_count": 35,
   "metadata": {},
   "outputs": [
    {
     "data": {
      "text/plain": [
       "'La soga que une Dolores con Comodoro Py'"
      ]
     },
     "execution_count": 35,
     "metadata": {},
     "output_type": "execute_result"
    }
   ],
   "source": [
    "noticia.bpage.find_all(\"title\")[0].string"
   ]
  },
  {
   "cell_type": "code",
   "execution_count": 36,
   "metadata": {},
   "outputs": [
    {
     "name": "stdout",
     "output_type": "stream",
     "text": [
      "cucu\n",
      "{'metadata': {'timestampofsearch': 1560724008.685024, 'timeofsearch': '2019-06-16T19:26:48.685024', 'filename': './dataCenital/raw/notaid-63776.json'}, 'Titulo': 'La soga que une Dolores con Comodoro Py'}\n"
     ]
    }
   ],
   "source": [
    "print (noticia.generarinfo())\n",
    "\n"
   ]
  },
  {
   "cell_type": "code",
   "execution_count": 3,
   "metadata": {},
   "outputs": [
    {
     "ename": "NameError",
     "evalue": "name 'titulos' is not defined",
     "output_type": "error",
     "traceback": [
      "\u001b[1;31m---------------------------------------------------------------------------\u001b[0m",
      "\u001b[1;31mNameError\u001b[0m                                 Traceback (most recent call last)",
      "\u001b[1;32m<ipython-input-3-a942817bdc8c>\u001b[0m in \u001b[0;36m<module>\u001b[1;34m\u001b[0m\n\u001b[1;32m----> 1\u001b[1;33m \u001b[1;32mfor\u001b[0m \u001b[0mtitulo\u001b[0m \u001b[1;32min\u001b[0m \u001b[0mtitulos\u001b[0m\u001b[1;33m:\u001b[0m\u001b[1;33m\u001b[0m\u001b[1;33m\u001b[0m\u001b[0m\n\u001b[0m\u001b[0;32m      2\u001b[0m     \u001b[0mvinculo\u001b[0m \u001b[1;33m=\u001b[0m \u001b[0mtitulo\u001b[0m\u001b[1;33m.\u001b[0m\u001b[0mfind_all\u001b[0m\u001b[1;33m(\u001b[0m\u001b[1;34m\"a\"\u001b[0m\u001b[1;33m)\u001b[0m\u001b[1;33m\u001b[0m\u001b[1;33m\u001b[0m\u001b[0m\n\u001b[0;32m      3\u001b[0m     \u001b[1;32massert\u001b[0m \u001b[0mlen\u001b[0m \u001b[1;33m(\u001b[0m\u001b[0mvinculo\u001b[0m\u001b[1;33m)\u001b[0m \u001b[1;33m==\u001b[0m \u001b[1;36m1\u001b[0m\u001b[1;33m,\u001b[0m \u001b[1;34m\"error, se encontro mas de un titulo por nota\"\u001b[0m\u001b[1;33m\u001b[0m\u001b[1;33m\u001b[0m\u001b[0m\n\u001b[0;32m      4\u001b[0m     \u001b[0mprint\u001b[0m \u001b[1;33m(\u001b[0m\u001b[0mvinculo\u001b[0m\u001b[1;33m[\u001b[0m\u001b[1;36m0\u001b[0m\u001b[1;33m]\u001b[0m\u001b[1;33m.\u001b[0m\u001b[0mstring\u001b[0m\u001b[1;33m)\u001b[0m\u001b[1;33m\u001b[0m\u001b[1;33m\u001b[0m\u001b[0m\n\u001b[0;32m      5\u001b[0m     \u001b[0mprint\u001b[0m \u001b[1;33m(\u001b[0m\u001b[0mvinculo\u001b[0m\u001b[1;33m[\u001b[0m\u001b[1;36m0\u001b[0m\u001b[1;33m]\u001b[0m\u001b[1;33m[\u001b[0m\u001b[1;34m'href'\u001b[0m\u001b[1;33m]\u001b[0m\u001b[1;33m)\u001b[0m\u001b[1;33m\u001b[0m\u001b[1;33m\u001b[0m\u001b[0m\n",
      "\u001b[1;31mNameError\u001b[0m: name 'titulos' is not defined"
     ]
    }
   ],
   "source": [
    "for titulo in titulos:\n",
    "    vinculo = titulo.find_all(\"a\")\n",
    "    assert len (vinculo) == 1, \"error, se encontro mas de un titulo por nota\"\n",
    "    print (vinculo[0].string)\n",
    "    print (vinculo[0]['href'])"
   ]
  },
  {
   "cell_type": "code",
   "execution_count": 55,
   "metadata": {},
   "outputs": [
    {
     "data": {
      "text/plain": [
       "<h1 class=\"card-title titulo titulo-lg\"><span class=\"amarillo font-16 hidden\"> 15/06/2019 18:06:00</span><a href=\"2019/06/15/como-funciona-el-fmi-por-dentro-/63773\">¿Cómo funciona el FMI por dentro?</a></h1>"
      ]
     },
     "execution_count": 55,
     "metadata": {},
     "output_type": "execute_result"
    }
   ],
   "source": [
    "titulos[0]"
   ]
  }
 ],
 "metadata": {
  "kernelspec": {
   "display_name": "Python (Simian)",
   "language": "python",
   "name": "simian"
  },
  "language_info": {
   "codemirror_mode": {
    "name": "ipython",
    "version": 3
   },
   "file_extension": ".py",
   "mimetype": "text/x-python",
   "name": "python",
   "nbconvert_exporter": "python",
   "pygments_lexer": "ipython3",
   "version": "3.7.3"
  }
 },
 "nbformat": 4,
 "nbformat_minor": 2
}
